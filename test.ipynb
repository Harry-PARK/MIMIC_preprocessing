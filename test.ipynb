{
 "cells": [
  {
   "cell_type": "code",
   "id": "initial_id",
   "metadata": {
    "collapsed": true,
    "ExecuteTime": {
     "end_time": "2025-01-06T08:14:31.027672Z",
     "start_time": "2025-01-06T08:14:30.799175Z"
    }
   },
   "source": [
    "import os\n",
    "\n",
    "import pandas as pd\n",
    "from sqlalchemy import create_engine\n",
    "\n",
    "import mipipe as mip\n",
    "\n",
    "# MySQL 데이터베이스 연결 정보\n",
    "username = 'root'\n",
    "password = os.getenv('AIMED_PW')\n",
    "host = '172.28.8.103'\n",
    "port = '3306'  # 예: '3306'\n",
    "database = \"MIMIC_III\"\n",
    "db_engine = create_engine(f'mysql+pymysql://{username}:{password}@{host}:{port}/{database}')\n",
    "\n",
    "# mip configuration\n",
    "mip.Config.mimic_path = \"../mimic3_csv/\""
   ],
   "outputs": [],
   "execution_count": 1
  },
  {
   "metadata": {
    "ExecuteTime": {
     "end_time": "2025-01-03T01:40:21.073846Z",
     "start_time": "2025-01-03T01:40:21.070970Z"
    }
   },
   "cell_type": "code",
   "source": [
    "from importlib import reload\n",
    "\n",
    "reload(mip)  # mymodule을 다시 로드하여 변경 사항 반영."
   ],
   "id": "e0b8f56aceaf0f58",
   "outputs": [
    {
     "data": {
      "text/plain": [
       "<module 'mipipe' from '/home/jgpark/PycharmProjects/MIMIC_preprocessing/mipipe/__init__.py'>"
      ]
     },
     "execution_count": 30,
     "metadata": {},
     "output_type": "execute_result"
    }
   ],
   "execution_count": 30
  },
  {
   "metadata": {
    "ExecuteTime": {
     "end_time": "2025-01-06T06:04:32.161680Z",
     "start_time": "2025-01-06T06:04:31.740073Z"
    }
   },
   "cell_type": "code",
   "source": [
    "# read json file\n",
    "import json\n",
    "\n",
    "with open('X.feature_names.json') as f:\n",
    "    x_feature_names = json.load(f)\n",
    "\n",
    "d_items = pd.read_csv(\"../mimic3_csv/D_ITEMS.csv\")  # D_ITEMS.csv\n",
    "d_labitems = pd.read_csv(\"../mimic3_csv/D_LABITEMS.csv\")  # D_LABITEMS.csv\n",
    "x_feature_names\n",
    "\n",
    "chartitem_map = {}\n",
    "labitem_map = {}\n",
    "\n",
    "for item_id in x_feature_names:\n",
    "    id = item_id.split(\"_\")[0]\n",
    "    # if id is number\n",
    "    if id.isdigit():\n",
    "        id = int(id)\n",
    "        try:\n",
    "            label = d_items[d_items[\"ITEMID\"] == id]\n",
    "            chartitem_map[id] = label[\"LABEL\"].values[0]\n",
    "        except:\n",
    "            try:\n",
    "                label = d_labitems[d_labitems[\"ITEMID\"] == id]\n",
    "                labitem_map[id] = label[\"LABEL\"].values[0]\n",
    "            except:\n",
    "                print(\"NOT FOUND: \", id)"
   ],
   "id": "def38349b65abb",
   "outputs": [],
   "execution_count": 4
  },
  {
   "metadata": {
    "ExecuteTime": {
     "end_time": "2025-01-03T01:40:20.312145800Z",
     "start_time": "2025-01-02T14:08:45.633395Z"
    }
   },
   "cell_type": "code",
   "source": [
    "import pandas as pd\n",
    "import multiprocessing as mp\n",
    "from concurrent.futures import ProcessPoolExecutor\n",
    "\n",
    "\n",
    "def process_group(group, x):\n",
    "    return group[\"value\"].mean()  # 예시로 그룹의 평균값을 계산\n",
    "\n",
    "\n",
    "def parallel_process_dataframe(df):\n",
    "    futures = []\n",
    "    with ProcessPoolExecutor(max_workers=mp.cpu_count()) as executor:\n",
    "        for _, group in df.groupby('ID'):\n",
    "            future = executor.submit(process_group, group, 1)\n",
    "            futures.append(future)\n",
    "\n",
    "    results = [future.result() for future in futures]\n",
    "    return results\n",
    "\n",
    "\n",
    "# 예시 데이터프레임\n",
    "df = pd.DataFrame({\n",
    "    'ID': [1, 1, 2, 2, 3, 3],\n",
    "    'value': [10, 20, 30, 40, 50, 60]\n",
    "})\n",
    "\n",
    "result_df = parallel_process_dataframe(df)\n",
    "print(result_df)"
   ],
   "id": "cce3457e6d5c4e5",
   "outputs": [
    {
     "name": "stdout",
     "output_type": "stream",
     "text": [
      "[15.0, 35.0, 55.0]\n"
     ]
    }
   ],
   "execution_count": 13
  },
  {
   "metadata": {},
   "cell_type": "markdown",
   "source": "# Chartevents preprocessing",
   "id": "b1d870334b17e713"
  },
  {
   "metadata": {
    "ExecuteTime": {
     "end_time": "2025-01-06T04:11:55.238194Z",
     "start_time": "2025-01-06T04:11:44.166914Z"
    }
   },
   "cell_type": "code",
   "source": [
    "query = \"SELECT * FROM CHARTEVENTS WHERE ITEMID IN (226707, 226730, 224639, 226512, 226531) ORDER BY CHARTTIME LIMIT 100000;\"\n",
    "icu_patient_original = pd.read_sql(query, db_engine)\n",
    "\n",
    "chartevents = mip.Chartevents()\n",
    "chartevents.load(icu_patient_original)"
   ],
   "id": "8c080037662a2ba4",
   "outputs": [],
   "execution_count": 3
  },
  {
   "metadata": {
    "ExecuteTime": {
     "end_time": "2025-01-04T05:38:49.084326Z",
     "start_time": "2025-01-04T05:38:49.080194Z"
    }
   },
   "cell_type": "code",
   "source": "chartevents.item_interval_info",
   "id": "3aeb8c330f949a60",
   "outputs": [
    {
     "data": {
      "text/plain": [
       "{0: [226512], 24: [226531, 224639, 226730, 226707]}"
      ]
     },
     "execution_count": 4,
     "metadata": {},
     "output_type": "execute_result"
    }
   ],
   "execution_count": 4
  },
  {
   "metadata": {
    "ExecuteTime": {
     "end_time": "2025-01-06T08:15:07.607240Z",
     "start_time": "2025-01-06T08:14:33.426041Z"
    }
   },
   "cell_type": "code",
   "source": [
    "query = \"SELECT * FROM CHARTEVENTS WHERE ITEMID IN (220045, 224167, 227243, 220050, 220179, 225309, 224639, 226512, 226531, 224690, 220210) ORDER BY CHARTTIME LIMIT 100000;\"\n",
    "icu_patient_original_2 = pd.read_sql(query, db_engine)\n",
    "\n",
    "# icu_patient_original_2 = icu_patient_original_2[icu_patient_original_2[\"ITEMID\"].isin([220045, 220179, 220180])]"
   ],
   "id": "ce9b4e22edb9732d",
   "outputs": [],
   "execution_count": 2
  },
  {
   "metadata": {
    "ExecuteTime": {
     "end_time": "2025-01-06T08:15:09.260153Z",
     "start_time": "2025-01-06T08:15:07.613173Z"
    }
   },
   "cell_type": "code",
   "source": [
    "chartevents2 = mip.Chartevents()\n",
    "chartevents2.load(icu_patient_original_2)\n",
    "chartevents2.process([\"mean\", \"min\"])"
   ],
   "id": "349f9588c3b8f6b0",
   "outputs": [
    {
     "name": "stdout",
     "output_type": "stream",
     "text": [
      "Chartevents data updated!\n",
      "-----------------------------------\n",
      "Filtering...\n",
      "chartevents_filter_remove_no_ICUSTAY_ID... Complete!\n",
      "chartevents_filter_remove_error... Complete!\n",
      "chartevents_filter_remove_labitems... Complete!\n",
      "Chartevents data updated!\n",
      "Filtered Complete!\n",
      "-----------------------------------\n",
      "Processing...\n",
      "chartevents_group_variables... Complete!\n",
      "Chartevents data updated!\n",
      "chartevents_aggregator... Complete!\n",
      "Processed Complete!\n"
     ]
    }
   ],
   "execution_count": 3
  },
  {
   "metadata": {
    "ExecuteTime": {
     "end_time": "2025-01-06T08:15:24.130788Z",
     "start_time": "2025-01-06T08:15:24.118676Z"
    }
   },
   "cell_type": "code",
   "source": "chartevents2.data",
   "id": "44632b57beb070e9",
   "outputs": [
    {
     "data": {
      "text/plain": [
       "      ICUSTAY_ID   T 220045       220179        220210       224639      \n",
       "                       mean   min   mean    min   mean   min   mean   min\n",
       "0         200975   0   84.0  84.0  132.0  132.0   19.0  19.0   79.8  79.8\n",
       "1         200975   1   90.0  90.0  129.0  129.0   14.0  14.0    NaN   NaN\n",
       "2         200975   2   83.0  83.0  116.0  116.0   16.0  16.0    NaN   NaN\n",
       "3         200975   3   84.0  84.0  116.0  116.0   15.0  15.0    NaN   NaN\n",
       "4         200975   4   84.0  84.0  124.0  124.0   19.0  19.0    NaN   NaN\n",
       "...          ...  ..    ...   ...    ...    ...    ...   ...    ...   ...\n",
       "28478     299853  51   82.0  82.0  101.0  101.0   11.0  11.0    NaN   NaN\n",
       "28479     299853  52   91.0  91.0  113.0  113.0    2.0   2.0    NaN   NaN\n",
       "28480     299853  53   89.0  89.0  104.0  104.0   14.0  14.0    NaN   NaN\n",
       "28481     299853  54   86.0  86.0  111.0  110.0   19.0  19.0    NaN   NaN\n",
       "28482     299853  55   75.0  75.0  109.0  109.0   17.0  17.0    NaN   NaN\n",
       "\n",
       "[28483 rows x 10 columns]"
      ],
      "text/html": [
       "<div>\n",
       "<style scoped>\n",
       "    .dataframe tbody tr th:only-of-type {\n",
       "        vertical-align: middle;\n",
       "    }\n",
       "\n",
       "    .dataframe tbody tr th {\n",
       "        vertical-align: top;\n",
       "    }\n",
       "\n",
       "    .dataframe thead tr th {\n",
       "        text-align: left;\n",
       "    }\n",
       "</style>\n",
       "<table border=\"1\" class=\"dataframe\">\n",
       "  <thead>\n",
       "    <tr>\n",
       "      <th></th>\n",
       "      <th>ICUSTAY_ID</th>\n",
       "      <th>T</th>\n",
       "      <th colspan=\"2\" halign=\"left\">220045</th>\n",
       "      <th colspan=\"2\" halign=\"left\">220179</th>\n",
       "      <th colspan=\"2\" halign=\"left\">220210</th>\n",
       "      <th colspan=\"2\" halign=\"left\">224639</th>\n",
       "    </tr>\n",
       "    <tr>\n",
       "      <th></th>\n",
       "      <th></th>\n",
       "      <th></th>\n",
       "      <th>mean</th>\n",
       "      <th>min</th>\n",
       "      <th>mean</th>\n",
       "      <th>min</th>\n",
       "      <th>mean</th>\n",
       "      <th>min</th>\n",
       "      <th>mean</th>\n",
       "      <th>min</th>\n",
       "    </tr>\n",
       "  </thead>\n",
       "  <tbody>\n",
       "    <tr>\n",
       "      <th>0</th>\n",
       "      <td>200975</td>\n",
       "      <td>0</td>\n",
       "      <td>84.0</td>\n",
       "      <td>84.0</td>\n",
       "      <td>132.0</td>\n",
       "      <td>132.0</td>\n",
       "      <td>19.0</td>\n",
       "      <td>19.0</td>\n",
       "      <td>79.8</td>\n",
       "      <td>79.8</td>\n",
       "    </tr>\n",
       "    <tr>\n",
       "      <th>1</th>\n",
       "      <td>200975</td>\n",
       "      <td>1</td>\n",
       "      <td>90.0</td>\n",
       "      <td>90.0</td>\n",
       "      <td>129.0</td>\n",
       "      <td>129.0</td>\n",
       "      <td>14.0</td>\n",
       "      <td>14.0</td>\n",
       "      <td>NaN</td>\n",
       "      <td>NaN</td>\n",
       "    </tr>\n",
       "    <tr>\n",
       "      <th>2</th>\n",
       "      <td>200975</td>\n",
       "      <td>2</td>\n",
       "      <td>83.0</td>\n",
       "      <td>83.0</td>\n",
       "      <td>116.0</td>\n",
       "      <td>116.0</td>\n",
       "      <td>16.0</td>\n",
       "      <td>16.0</td>\n",
       "      <td>NaN</td>\n",
       "      <td>NaN</td>\n",
       "    </tr>\n",
       "    <tr>\n",
       "      <th>3</th>\n",
       "      <td>200975</td>\n",
       "      <td>3</td>\n",
       "      <td>84.0</td>\n",
       "      <td>84.0</td>\n",
       "      <td>116.0</td>\n",
       "      <td>116.0</td>\n",
       "      <td>15.0</td>\n",
       "      <td>15.0</td>\n",
       "      <td>NaN</td>\n",
       "      <td>NaN</td>\n",
       "    </tr>\n",
       "    <tr>\n",
       "      <th>4</th>\n",
       "      <td>200975</td>\n",
       "      <td>4</td>\n",
       "      <td>84.0</td>\n",
       "      <td>84.0</td>\n",
       "      <td>124.0</td>\n",
       "      <td>124.0</td>\n",
       "      <td>19.0</td>\n",
       "      <td>19.0</td>\n",
       "      <td>NaN</td>\n",
       "      <td>NaN</td>\n",
       "    </tr>\n",
       "    <tr>\n",
       "      <th>...</th>\n",
       "      <td>...</td>\n",
       "      <td>...</td>\n",
       "      <td>...</td>\n",
       "      <td>...</td>\n",
       "      <td>...</td>\n",
       "      <td>...</td>\n",
       "      <td>...</td>\n",
       "      <td>...</td>\n",
       "      <td>...</td>\n",
       "      <td>...</td>\n",
       "    </tr>\n",
       "    <tr>\n",
       "      <th>28478</th>\n",
       "      <td>299853</td>\n",
       "      <td>51</td>\n",
       "      <td>82.0</td>\n",
       "      <td>82.0</td>\n",
       "      <td>101.0</td>\n",
       "      <td>101.0</td>\n",
       "      <td>11.0</td>\n",
       "      <td>11.0</td>\n",
       "      <td>NaN</td>\n",
       "      <td>NaN</td>\n",
       "    </tr>\n",
       "    <tr>\n",
       "      <th>28479</th>\n",
       "      <td>299853</td>\n",
       "      <td>52</td>\n",
       "      <td>91.0</td>\n",
       "      <td>91.0</td>\n",
       "      <td>113.0</td>\n",
       "      <td>113.0</td>\n",
       "      <td>2.0</td>\n",
       "      <td>2.0</td>\n",
       "      <td>NaN</td>\n",
       "      <td>NaN</td>\n",
       "    </tr>\n",
       "    <tr>\n",
       "      <th>28480</th>\n",
       "      <td>299853</td>\n",
       "      <td>53</td>\n",
       "      <td>89.0</td>\n",
       "      <td>89.0</td>\n",
       "      <td>104.0</td>\n",
       "      <td>104.0</td>\n",
       "      <td>14.0</td>\n",
       "      <td>14.0</td>\n",
       "      <td>NaN</td>\n",
       "      <td>NaN</td>\n",
       "    </tr>\n",
       "    <tr>\n",
       "      <th>28481</th>\n",
       "      <td>299853</td>\n",
       "      <td>54</td>\n",
       "      <td>86.0</td>\n",
       "      <td>86.0</td>\n",
       "      <td>111.0</td>\n",
       "      <td>110.0</td>\n",
       "      <td>19.0</td>\n",
       "      <td>19.0</td>\n",
       "      <td>NaN</td>\n",
       "      <td>NaN</td>\n",
       "    </tr>\n",
       "    <tr>\n",
       "      <th>28482</th>\n",
       "      <td>299853</td>\n",
       "      <td>55</td>\n",
       "      <td>75.0</td>\n",
       "      <td>75.0</td>\n",
       "      <td>109.0</td>\n",
       "      <td>109.0</td>\n",
       "      <td>17.0</td>\n",
       "      <td>17.0</td>\n",
       "      <td>NaN</td>\n",
       "      <td>NaN</td>\n",
       "    </tr>\n",
       "  </tbody>\n",
       "</table>\n",
       "<p>28483 rows × 10 columns</p>\n",
       "</div>"
      ]
     },
     "execution_count": 4,
     "metadata": {},
     "output_type": "execute_result"
    }
   ],
   "execution_count": 4
  }
 ],
 "metadata": {
  "kernelspec": {
   "display_name": "Python 3",
   "language": "python",
   "name": "python3"
  },
  "language_info": {
   "codemirror_mode": {
    "name": "ipython",
    "version": 2
   },
   "file_extension": ".py",
   "mimetype": "text/x-python",
   "name": "python",
   "nbconvert_exporter": "python",
   "pygments_lexer": "ipython2",
   "version": "2.7.6"
  }
 },
 "nbformat": 4,
 "nbformat_minor": 5
}
