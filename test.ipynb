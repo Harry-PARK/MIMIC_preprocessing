{
 "cells": [
  {
   "cell_type": "code",
   "id": "initial_id",
   "metadata": {
    "collapsed": true,
    "ExecuteTime": {
     "end_time": "2025-02-11T06:10:40.190154Z",
     "start_time": "2025-02-11T06:10:39.945197Z"
    }
   },
   "source": [
    "import os\n",
    "from typing import Tuple\n",
    "\n",
    "import numpy as np\n",
    "import pandas as pd\n",
    "\n",
    "from sqlalchemy import create_engine\n",
    "from tqdm import tqdm\n",
    "from collections import Counter\n",
    "\n",
    "import openmimic as om\n",
    "\n",
    "# MySQL 데이터베이스 연결 정보\n",
    "username = 'root'\n",
    "password = os.getenv('AIMED_PW')\n",
    "host = '172.28.8.103'\n",
    "port = '3306'  # 예: '3306'\n",
    "database = \"MIMIC_III\"\n",
    "db_engine = create_engine(f'mysql+pymysql://{username}:{password}@{host}:{port}/{database}')\n",
    "\n",
    "# om configuration\n",
    "om.Config.mimic_path = \"../mimic3_csv/\"\n",
    "processed_data_path = \"./processed_data/\""
   ],
   "outputs": [],
   "execution_count": 1
  },
  {
   "metadata": {
    "ExecuteTime": {
     "end_time": "2025-02-09T07:09:06.563731Z",
     "start_time": "2025-02-09T07:09:06.559021Z"
    }
   },
   "cell_type": "code",
   "source": [
    "from importlib import reload\n",
    "\n",
    "reload(om)  # mymodule을 다시 로드하여 변경 사항 반영."
   ],
   "id": "e0b8f56aceaf0f58",
   "outputs": [
    {
     "data": {
      "text/plain": [
       "<module 'mipipe' from '/home/jgpark/PycharmProjects/MIMIC_preprocessing/mipipe/__init__.py'>"
      ]
     },
     "execution_count": 6,
     "metadata": {},
     "output_type": "execute_result"
    }
   ],
   "execution_count": 6
  },
  {
   "metadata": {
    "ExecuteTime": {
     "end_time": "2025-02-10T06:55:48.097776Z",
     "start_time": "2025-02-10T06:55:47.647001Z"
    }
   },
   "cell_type": "code",
   "source": [
    "# read json file\n",
    "import json\n",
    "\n",
    "with open('X.feature_names.json') as f:\n",
    "    x_feature_names = json.load(f)\n",
    "\n",
    "d_items = pd.read_csv(\"../mimic3_csv/D_ITEMS.csv\")  # D_ITEMS.csv\n",
    "d_labitems = pd.read_csv(\"../mimic3_csv/D_LABITEMS.csv\")  # D_LABITEMS.csv\n",
    "\n",
    "chartitem_map = {}\n",
    "labitem_map = {}\n",
    "\n",
    "for item_id in x_feature_names:\n",
    "    id = item_id.split(\"_\")[0]\n",
    "    # if id is number\n",
    "    if id.isdigit():\n",
    "        id = int(id)\n",
    "        try:\n",
    "            label = d_items[d_items[\"ITEMID\"] == id]\n",
    "            chartitem_map[id] = label[\"LABEL\"].values[0]\n",
    "        except:\n",
    "            try:\n",
    "                label = d_labitems[d_labitems[\"ITEMID\"] == id]\n",
    "                labitem_map[id] = label[\"LABEL\"].values[0]\n",
    "            except:\n",
    "                print(\"NOT FOUND: \", id)"
   ],
   "id": "def38349b65abb",
   "outputs": [],
   "execution_count": 2
  },
  {
   "metadata": {},
   "cell_type": "markdown",
   "source": "# Patient_static preprocessing",
   "id": "676478e0ed58adf5"
  },
  {
   "metadata": {
    "ExecuteTime": {
     "end_time": "2025-02-11T06:10:56.657135Z",
     "start_time": "2025-02-11T06:10:42.967473Z"
    }
   },
   "cell_type": "code",
   "source": [
    "# query = \"SELECT * FROM patient_static\"\n",
    "# patients_all = pd.read_sql(query, db_engine)\n",
    "patients_static_csv = pd.read_csv(processed_data_path+\"patients_static.csv\")\n",
    "patients_static_T_info_csv = pd.read_csv(processed_data_path+\"patients_static_T_info.csv\")\n",
    "\n",
    "patients_static = om.PatientStatic()\n",
    "patients_static.load_processed(patients_static_csv, patients_static_T_info_csv)\n",
    "# patients_static.load(patients_all)\n",
    "# patients_static.patients_T_info"
   ],
   "id": "d5b4fab6f9c9bb",
   "outputs": [],
   "execution_count": 2
  },
  {
   "metadata": {},
   "cell_type": "markdown",
   "source": "# Chartevents preprocessing",
   "id": "b1d870334b17e713"
  },
  {
   "metadata": {
    "ExecuteTime": {
     "end_time": "2025-02-10T07:22:47.134095Z",
     "start_time": "2025-02-10T07:10:03.112590Z"
    }
   },
   "cell_type": "code",
   "source": [
    "chartevents_items = (769, 220644, 772, 1521, 227456, 773, 225612, 227073, 770, 220587, 227443, 848, 225690, 1538, 225651, 803, 781, 1162, 225624, 225625, 786, 1522, 816, 225667, 116, 89, 90, 220074, 113, 220602, 226536, 1523, 788, 789, 1524, 220603, 787, 857, 225698, 777, 223679, 791, 1525, 220615, 224643, 225310, 220180, 8555, 220051, 8368, 8441, 8440, 227468, 1528, 806, 189, 727, 223835, 190, 198, 220621, 225664, 811, 807, 226537, 1529, 211, 220045, 226707, 226730, 1394, 813, 220545, 220228, 814, 818, 225668, 1531, 220635, 1532, 821, 456, 220181, 224, 225312, 220052, 52, 6702, 224322, 646, 834, 220277, 220227, 226062, 778, 220235, 779, 227466, 825, 1533, 535, 224695, 860, 223830, 1126, 780, 220274, 1534, 225677, 827, 224696, 543, 828, 227457, 224700, 506, 220339, 512, 829, 1535, 227464, 227442, 227467, 1530, 815, 1286, 824, 227465, 491, 492, 220059, 504, 833, 224422, 618, 220210, 224689, 614, 651, 224690, 615, 224688, 619, 837, 1536, 220645, 226534, 626, 442, 227243, 224167, 220179, 225309, 6701, 220050, 51, 455, 223761, 677, 676, 679, 678, 223762, 224685, 682, 224684, 683, 684, 224686, 1539, 849, 851, 227429, 859, 226531, 763, 224639, 226512, 861, 1542, 220546, 1127 )\n",
    "query = f\"SELECT * FROM CHARTEVENTS WHERE ITEMID IN {chartevents_items} ORDER BY CHARTTIME;\"\n",
    "icu_patient_original = pd.read_sql(query, db_engine)"
   ],
   "id": "ce9b4e22edb9732d",
   "outputs": [],
   "execution_count": 12
  },
  {
   "metadata": {
    "ExecuteTime": {
     "end_time": "2025-02-10T07:26:55.701642Z",
     "start_time": "2025-02-10T07:23:33.763552Z"
    }
   },
   "cell_type": "code",
   "source": [
    "icu_patient_original.to_csv(processed_data_path+\"icu_patient_original.csv\", index=False)\n",
    "len(icu_patient_original)"
   ],
   "id": "8a093e011778b34d",
   "outputs": [
    {
     "data": {
      "text/plain": [
       "66635422"
      ]
     },
     "execution_count": 16,
     "metadata": {},
     "output_type": "execute_result"
    }
   ],
   "execution_count": 16
  },
  {
   "metadata": {
    "ExecuteTime": {
     "end_time": "2025-02-11T06:11:39.722679Z",
     "start_time": "2025-02-11T06:10:56.664764Z"
    }
   },
   "cell_type": "code",
   "source": [
    "icu_patient_original = pd.read_csv(processed_data_path+\"icu_patient_original.csv\")\n",
    "icu_patient_original[\"CHARTTIME\"] = pd.to_datetime(icu_patient_original[\"CHARTTIME\"])\n",
    "icu_patient_original[\"ICUSTAY_ID\"].unique()"
   ],
   "id": "7418827dda496e99",
   "outputs": [
    {
     "name": "stderr",
     "output_type": "stream",
     "text": [
      "/tmp/ipykernel_3496141/2515664670.py:1: DtypeWarning: Columns (8,13,14) have mixed types. Specify dtype option on import or set low_memory=False.\n",
      "  icu_patient_original = pd.read_csv(processed_data_path+\"icu_patient_original.csv\")\n"
     ]
    }
   ],
   "execution_count": 3
  },
  {
   "metadata": {
    "ExecuteTime": {
     "end_time": "2025-02-11T06:19:43.790122Z",
     "start_time": "2025-02-11T06:11:40.094118Z"
    }
   },
   "cell_type": "code",
   "source": [
    "# aa = icu_patient_original[icu_patient_original[\"ICUSTAY_ID\"].isin([202134, 293407, 222148, 252411, 202836, 234115])]\n",
    "chartevents2 = om.Chartevents()\n",
    "chartevents2.load(icu_patient_original, patients_static.patients_T_info)\n",
    "chartevents2.filter()\n",
    "data = chartevents2.data\n",
    "chartevents2.process([\"mean\"])"
   ],
   "id": "797b189a07503649",
   "outputs": [
    {
     "name": "stdout",
     "output_type": "stream",
     "text": [
      "Chartevents data updated!\n",
      "-----------------------------------\n",
      "Filtering...\n",
      "-> filter_remove_unassociated_columns...\t Complete!\t1.21s\n",
      "-> filter_remove_no_ICUSTAY_ID...\t Complete!\t2.31s\n",
      "-> filter_remove_error...\t Complete!\t1.79s\n",
      "-> filter_remove_labitems...\t Complete!\t1.26s\n",
      "Chartevents data updated!\n",
      "Filtering Complete!\n",
      "=> Before: 66,635,422, After: 66,534,355 : 99.85% remained.\n",
      "-----------------------------------\n",
      "Processing...\n",
      "-> process_group_variables_from_fiddle...\t Complete!\t20.19s\n",
      "Chartevents data updated!\n",
      "-> process_aggregator...\t Complete!\t6m 23.00s\n",
      "-> process_interval_shift_alignment...\t Complete!\t2.95s\n",
      "Processing Complete!\n"
     ]
    }
   ],
   "execution_count": 5
  },
  {
   "metadata": {},
   "cell_type": "markdown",
   "source": "# Inputevents_MV preprocessing",
   "id": "5c0e668a0634a23c"
  },
  {
   "metadata": {
    "ExecuteTime": {
     "end_time": "2025-02-09T07:10:30.413647Z",
     "start_time": "2025-02-09T07:09:29.929951Z"
    }
   },
   "cell_type": "code",
   "source": [
    "columns = \"ROW_ID, ICUSTAY_ID, STARTTIME, ENDTIME, ITEMID, AMOUNT, AMOUNTUOM, RATE, RATEUOM, PATIENTWEIGHT\"\n",
    "columns = \"*\"\n",
    "query = f\"SELECT {columns} FROM INPUTEVENTS_MV\"\n",
    "inputevents_mv_all = pd.read_sql(query, db_engine)"
   ],
   "id": "a1352317e26badc0",
   "outputs": [],
   "execution_count": 3
  },
  {
   "metadata": {
    "ExecuteTime": {
     "end_time": "2025-02-09T07:14:58.152565Z",
     "start_time": "2025-02-09T07:10:30.422068Z"
    }
   },
   "cell_type": "code",
   "source": [
    "inputevents_mv = om.InputeventsMV()\n",
    "inputevents_mv.load(inputevents_mv_all, patients_static.patients_T_info)\n",
    "inputevents_mv.process()"
   ],
   "id": "870ba5890b59a6d1",
   "outputs": [
    {
     "name": "stdout",
     "output_type": "stream",
     "text": [
      "-----------------------------------\n",
      "Filtering...\n",
      "-> filter_remove_unassociated_columns...\t Complete!\t0.27s\n",
      "-> filter_remove_no_ICUSTAY_ID...\t Complete!\t0.35s\n",
      "-> filter_remove_error...\t Complete!\t0.66s\n",
      "-> filter_remove_zero_input...\t Complete!\t0.61s\n",
      "-> filter_remove_continuous_uom_missing...\t Complete!\t0.74s\n",
      "Filtering Complete!\n",
      "=> Before: 3,618,991, After: 2,535,497 : 70.06% remained.\n",
      "-----------------------------------\n",
      "Processing...\n",
      "-> process_rateuom_into_hour_unit...\t Complete!\t3.06s\n",
      "-> process_unite_convertable_uom_by_D_ITEMS...\t Complete!\t4.88s\n",
      "-> process_split_ITEMID_by_unit...\t Complete!\t3.73s\n",
      "-> process_transform_T_cohort...\t Complete!\t4m 10.16s\n",
      "Processing Complete!\n"
     ]
    }
   ],
   "execution_count": 4
  },
  {
   "metadata": {
    "ExecuteTime": {
     "end_time": "2025-02-10T04:36:53.641985Z",
     "start_time": "2025-02-10T04:36:53.639532Z"
    }
   },
   "cell_type": "code",
   "source": "print(f\"{330712483:,}\")",
   "id": "9c6845126d593abe",
   "outputs": [
    {
     "name": "stdout",
     "output_type": "stream",
     "text": [
      "330,712,483\n"
     ]
    }
   ],
   "execution_count": 6
  },
  {
   "metadata": {
    "ExecuteTime": {
     "end_time": "2025-02-09T07:15:02.055668Z",
     "start_time": "2025-02-09T07:15:01.975957Z"
    }
   },
   "cell_type": "code",
   "source": "inputevents_mv.data",
   "id": "b87e2ad9049f0858",
   "outputs": [
    {
     "data": {
      "text/plain": [
       "    ICUSTAY_ID   T  220949.0  221347.0  225152.0  225158.0  225837.0  \\\n",
       "0     200001.0   0       NaN       NaN       NaN       NaN       NaN   \n",
       "1     200001.0   1       NaN       NaN       NaN       NaN       NaN   \n",
       "2     200001.0   2       NaN       NaN       NaN       NaN       NaN   \n",
       "3     200001.0   3       NaN       NaN       NaN       NaN       NaN   \n",
       "4     200001.0   4       NaN       NaN       NaN       NaN       NaN   \n",
       "..         ...  ..       ...       ...       ...       ...       ...   \n",
       "42    299998.0  42       NaN       NaN       NaN       NaN       NaN   \n",
       "43    299998.0  43       NaN       NaN       NaN       NaN       NaN   \n",
       "44    299998.0  44       NaN       NaN       NaN       NaN       NaN   \n",
       "45    299998.0  45       NaN       NaN       NaN       NaN       NaN   \n",
       "46    299998.0  46       NaN       NaN       NaN       NaN       NaN   \n",
       "\n",
       "    225863.0  225883.0  225907.0  ...  226046.0  226045.0  225876.1  227978.0  \\\n",
       "0        NaN       NaN       NaN  ...       NaN       NaN       NaN       NaN   \n",
       "1        NaN       NaN       NaN  ...       NaN       NaN       NaN       NaN   \n",
       "2        NaN       NaN       NaN  ...       NaN       NaN       NaN       NaN   \n",
       "3        NaN       NaN       NaN  ...       NaN       NaN       NaN       NaN   \n",
       "4        2.0       NaN       NaN  ...       NaN       NaN       NaN       NaN   \n",
       "..       ...       ...       ...  ...       ...       ...       ...       ...   \n",
       "42       NaN       NaN       NaN  ...       NaN       NaN       NaN       NaN   \n",
       "43       NaN       NaN       NaN  ...       NaN       NaN       NaN       NaN   \n",
       "44       NaN       NaN       NaN  ...       NaN       NaN       NaN       NaN   \n",
       "45       NaN       NaN       NaN  ...       NaN       NaN       NaN       NaN   \n",
       "46       NaN       NaN       NaN  ...       NaN       NaN       NaN       NaN   \n",
       "\n",
       "    225991.0  225996.0  227518.0  227691.1  225896.0  225909.1  \n",
       "0        NaN       NaN       NaN       NaN       NaN       NaN  \n",
       "1        NaN       NaN       NaN       NaN       NaN       NaN  \n",
       "2        NaN       NaN       NaN       NaN       NaN       NaN  \n",
       "3        NaN       NaN       NaN       NaN       NaN       NaN  \n",
       "4        NaN       NaN       NaN       NaN       NaN       NaN  \n",
       "..       ...       ...       ...       ...       ...       ...  \n",
       "42       NaN       NaN       NaN       NaN       NaN       NaN  \n",
       "43       NaN       NaN       NaN       NaN       NaN       NaN  \n",
       "44       NaN       NaN       NaN       NaN       NaN       NaN  \n",
       "45       NaN       NaN       NaN       NaN       NaN       NaN  \n",
       "46       NaN       NaN       NaN       NaN       NaN       NaN  \n",
       "\n",
       "[874833 rows x 284 columns]"
      ],
      "text/html": [
       "<div>\n",
       "<style scoped>\n",
       "    .dataframe tbody tr th:only-of-type {\n",
       "        vertical-align: middle;\n",
       "    }\n",
       "\n",
       "    .dataframe tbody tr th {\n",
       "        vertical-align: top;\n",
       "    }\n",
       "\n",
       "    .dataframe thead th {\n",
       "        text-align: right;\n",
       "    }\n",
       "</style>\n",
       "<table border=\"1\" class=\"dataframe\">\n",
       "  <thead>\n",
       "    <tr style=\"text-align: right;\">\n",
       "      <th></th>\n",
       "      <th>ICUSTAY_ID</th>\n",
       "      <th>T</th>\n",
       "      <th>220949.0</th>\n",
       "      <th>221347.0</th>\n",
       "      <th>225152.0</th>\n",
       "      <th>225158.0</th>\n",
       "      <th>225837.0</th>\n",
       "      <th>225863.0</th>\n",
       "      <th>225883.0</th>\n",
       "      <th>225907.0</th>\n",
       "      <th>...</th>\n",
       "      <th>226046.0</th>\n",
       "      <th>226045.0</th>\n",
       "      <th>225876.1</th>\n",
       "      <th>227978.0</th>\n",
       "      <th>225991.0</th>\n",
       "      <th>225996.0</th>\n",
       "      <th>227518.0</th>\n",
       "      <th>227691.1</th>\n",
       "      <th>225896.0</th>\n",
       "      <th>225909.1</th>\n",
       "    </tr>\n",
       "  </thead>\n",
       "  <tbody>\n",
       "    <tr>\n",
       "      <th>0</th>\n",
       "      <td>200001.0</td>\n",
       "      <td>0</td>\n",
       "      <td>NaN</td>\n",
       "      <td>NaN</td>\n",
       "      <td>NaN</td>\n",
       "      <td>NaN</td>\n",
       "      <td>NaN</td>\n",
       "      <td>NaN</td>\n",
       "      <td>NaN</td>\n",
       "      <td>NaN</td>\n",
       "      <td>...</td>\n",
       "      <td>NaN</td>\n",
       "      <td>NaN</td>\n",
       "      <td>NaN</td>\n",
       "      <td>NaN</td>\n",
       "      <td>NaN</td>\n",
       "      <td>NaN</td>\n",
       "      <td>NaN</td>\n",
       "      <td>NaN</td>\n",
       "      <td>NaN</td>\n",
       "      <td>NaN</td>\n",
       "    </tr>\n",
       "    <tr>\n",
       "      <th>1</th>\n",
       "      <td>200001.0</td>\n",
       "      <td>1</td>\n",
       "      <td>NaN</td>\n",
       "      <td>NaN</td>\n",
       "      <td>NaN</td>\n",
       "      <td>NaN</td>\n",
       "      <td>NaN</td>\n",
       "      <td>NaN</td>\n",
       "      <td>NaN</td>\n",
       "      <td>NaN</td>\n",
       "      <td>...</td>\n",
       "      <td>NaN</td>\n",
       "      <td>NaN</td>\n",
       "      <td>NaN</td>\n",
       "      <td>NaN</td>\n",
       "      <td>NaN</td>\n",
       "      <td>NaN</td>\n",
       "      <td>NaN</td>\n",
       "      <td>NaN</td>\n",
       "      <td>NaN</td>\n",
       "      <td>NaN</td>\n",
       "    </tr>\n",
       "    <tr>\n",
       "      <th>2</th>\n",
       "      <td>200001.0</td>\n",
       "      <td>2</td>\n",
       "      <td>NaN</td>\n",
       "      <td>NaN</td>\n",
       "      <td>NaN</td>\n",
       "      <td>NaN</td>\n",
       "      <td>NaN</td>\n",
       "      <td>NaN</td>\n",
       "      <td>NaN</td>\n",
       "      <td>NaN</td>\n",
       "      <td>...</td>\n",
       "      <td>NaN</td>\n",
       "      <td>NaN</td>\n",
       "      <td>NaN</td>\n",
       "      <td>NaN</td>\n",
       "      <td>NaN</td>\n",
       "      <td>NaN</td>\n",
       "      <td>NaN</td>\n",
       "      <td>NaN</td>\n",
       "      <td>NaN</td>\n",
       "      <td>NaN</td>\n",
       "    </tr>\n",
       "    <tr>\n",
       "      <th>3</th>\n",
       "      <td>200001.0</td>\n",
       "      <td>3</td>\n",
       "      <td>NaN</td>\n",
       "      <td>NaN</td>\n",
       "      <td>NaN</td>\n",
       "      <td>NaN</td>\n",
       "      <td>NaN</td>\n",
       "      <td>NaN</td>\n",
       "      <td>NaN</td>\n",
       "      <td>NaN</td>\n",
       "      <td>...</td>\n",
       "      <td>NaN</td>\n",
       "      <td>NaN</td>\n",
       "      <td>NaN</td>\n",
       "      <td>NaN</td>\n",
       "      <td>NaN</td>\n",
       "      <td>NaN</td>\n",
       "      <td>NaN</td>\n",
       "      <td>NaN</td>\n",
       "      <td>NaN</td>\n",
       "      <td>NaN</td>\n",
       "    </tr>\n",
       "    <tr>\n",
       "      <th>4</th>\n",
       "      <td>200001.0</td>\n",
       "      <td>4</td>\n",
       "      <td>NaN</td>\n",
       "      <td>NaN</td>\n",
       "      <td>NaN</td>\n",
       "      <td>NaN</td>\n",
       "      <td>NaN</td>\n",
       "      <td>2.0</td>\n",
       "      <td>NaN</td>\n",
       "      <td>NaN</td>\n",
       "      <td>...</td>\n",
       "      <td>NaN</td>\n",
       "      <td>NaN</td>\n",
       "      <td>NaN</td>\n",
       "      <td>NaN</td>\n",
       "      <td>NaN</td>\n",
       "      <td>NaN</td>\n",
       "      <td>NaN</td>\n",
       "      <td>NaN</td>\n",
       "      <td>NaN</td>\n",
       "      <td>NaN</td>\n",
       "    </tr>\n",
       "    <tr>\n",
       "      <th>...</th>\n",
       "      <td>...</td>\n",
       "      <td>...</td>\n",
       "      <td>...</td>\n",
       "      <td>...</td>\n",
       "      <td>...</td>\n",
       "      <td>...</td>\n",
       "      <td>...</td>\n",
       "      <td>...</td>\n",
       "      <td>...</td>\n",
       "      <td>...</td>\n",
       "      <td>...</td>\n",
       "      <td>...</td>\n",
       "      <td>...</td>\n",
       "      <td>...</td>\n",
       "      <td>...</td>\n",
       "      <td>...</td>\n",
       "      <td>...</td>\n",
       "      <td>...</td>\n",
       "      <td>...</td>\n",
       "      <td>...</td>\n",
       "      <td>...</td>\n",
       "    </tr>\n",
       "    <tr>\n",
       "      <th>42</th>\n",
       "      <td>299998.0</td>\n",
       "      <td>42</td>\n",
       "      <td>NaN</td>\n",
       "      <td>NaN</td>\n",
       "      <td>NaN</td>\n",
       "      <td>NaN</td>\n",
       "      <td>NaN</td>\n",
       "      <td>NaN</td>\n",
       "      <td>NaN</td>\n",
       "      <td>NaN</td>\n",
       "      <td>...</td>\n",
       "      <td>NaN</td>\n",
       "      <td>NaN</td>\n",
       "      <td>NaN</td>\n",
       "      <td>NaN</td>\n",
       "      <td>NaN</td>\n",
       "      <td>NaN</td>\n",
       "      <td>NaN</td>\n",
       "      <td>NaN</td>\n",
       "      <td>NaN</td>\n",
       "      <td>NaN</td>\n",
       "    </tr>\n",
       "    <tr>\n",
       "      <th>43</th>\n",
       "      <td>299998.0</td>\n",
       "      <td>43</td>\n",
       "      <td>NaN</td>\n",
       "      <td>NaN</td>\n",
       "      <td>NaN</td>\n",
       "      <td>NaN</td>\n",
       "      <td>NaN</td>\n",
       "      <td>NaN</td>\n",
       "      <td>NaN</td>\n",
       "      <td>NaN</td>\n",
       "      <td>...</td>\n",
       "      <td>NaN</td>\n",
       "      <td>NaN</td>\n",
       "      <td>NaN</td>\n",
       "      <td>NaN</td>\n",
       "      <td>NaN</td>\n",
       "      <td>NaN</td>\n",
       "      <td>NaN</td>\n",
       "      <td>NaN</td>\n",
       "      <td>NaN</td>\n",
       "      <td>NaN</td>\n",
       "    </tr>\n",
       "    <tr>\n",
       "      <th>44</th>\n",
       "      <td>299998.0</td>\n",
       "      <td>44</td>\n",
       "      <td>NaN</td>\n",
       "      <td>NaN</td>\n",
       "      <td>NaN</td>\n",
       "      <td>NaN</td>\n",
       "      <td>NaN</td>\n",
       "      <td>NaN</td>\n",
       "      <td>NaN</td>\n",
       "      <td>NaN</td>\n",
       "      <td>...</td>\n",
       "      <td>NaN</td>\n",
       "      <td>NaN</td>\n",
       "      <td>NaN</td>\n",
       "      <td>NaN</td>\n",
       "      <td>NaN</td>\n",
       "      <td>NaN</td>\n",
       "      <td>NaN</td>\n",
       "      <td>NaN</td>\n",
       "      <td>NaN</td>\n",
       "      <td>NaN</td>\n",
       "    </tr>\n",
       "    <tr>\n",
       "      <th>45</th>\n",
       "      <td>299998.0</td>\n",
       "      <td>45</td>\n",
       "      <td>NaN</td>\n",
       "      <td>NaN</td>\n",
       "      <td>NaN</td>\n",
       "      <td>NaN</td>\n",
       "      <td>NaN</td>\n",
       "      <td>NaN</td>\n",
       "      <td>NaN</td>\n",
       "      <td>NaN</td>\n",
       "      <td>...</td>\n",
       "      <td>NaN</td>\n",
       "      <td>NaN</td>\n",
       "      <td>NaN</td>\n",
       "      <td>NaN</td>\n",
       "      <td>NaN</td>\n",
       "      <td>NaN</td>\n",
       "      <td>NaN</td>\n",
       "      <td>NaN</td>\n",
       "      <td>NaN</td>\n",
       "      <td>NaN</td>\n",
       "    </tr>\n",
       "    <tr>\n",
       "      <th>46</th>\n",
       "      <td>299998.0</td>\n",
       "      <td>46</td>\n",
       "      <td>NaN</td>\n",
       "      <td>NaN</td>\n",
       "      <td>NaN</td>\n",
       "      <td>NaN</td>\n",
       "      <td>NaN</td>\n",
       "      <td>NaN</td>\n",
       "      <td>NaN</td>\n",
       "      <td>NaN</td>\n",
       "      <td>...</td>\n",
       "      <td>NaN</td>\n",
       "      <td>NaN</td>\n",
       "      <td>NaN</td>\n",
       "      <td>NaN</td>\n",
       "      <td>NaN</td>\n",
       "      <td>NaN</td>\n",
       "      <td>NaN</td>\n",
       "      <td>NaN</td>\n",
       "      <td>NaN</td>\n",
       "      <td>NaN</td>\n",
       "    </tr>\n",
       "  </tbody>\n",
       "</table>\n",
       "<p>874833 rows × 284 columns</p>\n",
       "</div>"
      ]
     },
     "execution_count": 5,
     "metadata": {},
     "output_type": "execute_result"
    }
   ],
   "execution_count": 5
  },
  {
   "metadata": {},
   "cell_type": "markdown",
   "source": "# Cohort Integration\n",
   "id": "fbfd6354098622e"
  },
  {
   "metadata": {
    "ExecuteTime": {
     "end_time": "2025-02-09T07:09:07.174634400Z",
     "start_time": "2025-02-06T14:10:27.766568Z"
    }
   },
   "cell_type": "code",
   "source": [
    "class Cohort:\n",
    "    def __init__(self, patients_static=None, chartevents=None, inputevents_mv=None, cohort=None):\n",
    "        self.patients_static = patients_static\n",
    "        self.chartevents = chartevents\n",
    "        self.inputevents_mv = inputevents_mv\n",
    "        self.data = cohort\n",
    "\n",
    "    def make_cohort(self):\n",
    "        self.data = self.patients_static.data\n",
    "        if self.chartevents is not None:\n",
    "            self.data = self.data.merge(self.chartevents.data, on=\"ICUSTAY_ID\", how=\"left\")\n",
    "        if self.inputevents_mv is not None:\n",
    "            self.data = self.data.merge(self.inputevents_mv.data, on=\"ICUSTAY_ID\", how=\"left\")\n",
    "        return self.data\n",
    "\n",
    "\n",
    "cohort = Cohort(patients_static, chartevents2, inputevents_mv)\n",
    "cohort.make_cohort()\n",
    "cohort.data"
   ],
   "id": "e941c78f145f783a",
   "outputs": [],
   "execution_count": 46
  }
 ],
 "metadata": {
  "kernelspec": {
   "display_name": "Python 3",
   "language": "python",
   "name": "python3"
  },
  "language_info": {
   "codemirror_mode": {
    "name": "ipython",
    "version": 2
   },
   "file_extension": ".py",
   "mimetype": "text/x-python",
   "name": "python",
   "nbconvert_exporter": "python",
   "pygments_lexer": "ipython2",
   "version": "2.7.6"
  }
 },
 "nbformat": 4,
 "nbformat_minor": 5
}
