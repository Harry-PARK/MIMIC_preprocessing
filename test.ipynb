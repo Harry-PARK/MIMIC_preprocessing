{
 "cells": [
  {
   "cell_type": "code",
   "id": "initial_id",
   "metadata": {
    "collapsed": true,
    "ExecuteTime": {
     "end_time": "2025-03-05T05:28:22.803817Z",
     "start_time": "2025-03-05T05:28:22.564302Z"
    }
   },
   "source": [
    "import os\n",
    "\n",
    "import pandas as pd\n",
    "from sqlalchemy import create_engine\n",
    "\n",
    "import openmimic as om\n",
    "\n",
    "# db configuration\n",
    "username = 'root'\n",
    "password = os.getenv('AIMED_PW')\n",
    "host = '172.28.8.103'\n",
    "port = '3306'\n",
    "database = \"MIMIC_III\"\n",
    "db_engine = create_engine(f'mysql+pymysql://{username}:{password}@{host}:{port}/{database}')\n",
    "\n",
    "# om configuration\n",
    "om.Config.mimic_path = \"../mimic3_csv/\"\n",
    "\n",
    "# path configuration\n",
    "processed_tables_path = \"./processed_data/\""
   ],
   "outputs": [],
   "execution_count": 1
  },
  {
   "metadata": {
    "ExecuteTime": {
     "end_time": "2025-03-05T05:25:18.892273Z",
     "start_time": "2025-03-05T05:25:18.886482Z"
    }
   },
   "cell_type": "code",
   "source": [
    "import importlib\n",
    "\n",
    "\n",
    "def reload_all():\n",
    "    importlib.reload(om)\n",
    "    importlib.reload(om.chartevents)\n",
    "    importlib.reload(om.chartevents_engineering)\n",
    "    # importlib.reload(om.cohort)\n",
    "    importlib.reload(om.config)\n",
    "    importlib.reload(om.utils)\n",
    "    importlib.reload(om.inputevents_mv)\n",
    "    importlib.reload(om.inputevents_mv_engineering)\n",
    "    importlib.reload(om.mimic_preprocessor)\n",
    "    importlib.reload(om.patient_static)\n",
    "    importlib.reload(om.patient_static_engineering)\n",
    "    importlib.reload(om.outputevents)\n",
    "    importlib.reload(om.outputevents_engineering)\n",
    "    importlib.reload(om.labevents)\n",
    "    importlib.reload(om.labevents_engineering)\n",
    "\n",
    "\n",
    "reload_all()"
   ],
   "id": "f39323276728d6ab",
   "outputs": [],
   "execution_count": 6
  },
  {
   "metadata": {},
   "cell_type": "markdown",
   "source": "# Patient_static",
   "id": "676478e0ed58adf5"
  },
  {
   "metadata": {
    "ExecuteTime": {
     "end_time": "2025-03-05T05:28:38.744112Z",
     "start_time": "2025-03-05T05:28:24.977993Z"
    }
   },
   "cell_type": "code",
   "source": [
    "# query = \"SELECT * FROM patient_static\"\n",
    "# patients_all = pd.read_sql(query, db_engine)\n",
    "patients_static_csv = pd.read_csv(processed_tables_path + \"patients_static.csv\")\n",
    "patients_static_T_info_csv = pd.read_csv(processed_tables_path + \"patients_static_T_info.csv\")\n",
    "\n",
    "patients_static = om.PatientStatic()\n",
    "patients_static.load_processed(patients_static_csv, patients_static_T_info_csv)\n",
    "# patients_static.load(patients_all)\n",
    "# patients_static.patients_T_info"
   ],
   "id": "d5b4fab6f9c9bb",
   "outputs": [
    {
     "data": {
      "text/plain": [
       "<openmimic.patient_static.PatientStatic at 0x7f131028bb90>"
      ]
     },
     "execution_count": 2,
     "metadata": {},
     "output_type": "execute_result"
    }
   ],
   "execution_count": 2
  },
  {
   "metadata": {},
   "cell_type": "markdown",
   "source": "# Chartevents",
   "id": "b1d870334b17e713"
  },
  {
   "metadata": {
    "ExecuteTime": {
     "end_time": "2025-02-10T07:22:47.134095Z",
     "start_time": "2025-02-10T07:10:03.112590Z"
    }
   },
   "cell_type": "code",
   "source": [
    "chartevents_items = (\n",
    "    769, 220644, 772, 1521, 227456, 773, 225612, 227073, 770, 220587, 227443, 848, 225690, 1538, 225651, 803, 781, 1162,\n",
    "    225624, 225625, 786, 1522, 816, 225667, 116, 89, 90, 220074, 113, 220602, 226536, 1523, 788, 789, 1524, 220603, 787,\n",
    "    857, 225698, 777, 223679, 791, 1525, 220615, 224643, 225310, 220180, 8555, 220051, 8368, 8441, 8440, 227468, 1528,\n",
    "    806,\n",
    "    189, 727, 223835, 190, 198, 220621, 225664, 811, 807, 226537, 1529, 211, 220045, 226707, 226730, 1394, 813, 220545,\n",
    "    220228, 814, 818, 225668, 1531, 220635, 1532, 821, 456, 220181, 224, 225312, 220052, 52, 6702, 224322, 646, 834,\n",
    "    220277,\n",
    "    220227, 226062, 778, 220235, 779, 227466, 825, 1533, 535, 224695, 860, 223830, 1126, 780, 220274, 1534, 225677, 827,\n",
    "    224696, 543, 828, 227457, 224700, 506, 220339, 512, 829, 1535, 227464, 227442, 227467, 1530, 815, 1286, 824, 227465,\n",
    "    491, 492, 220059, 504, 833, 224422, 618, 220210, 224689, 614, 651, 224690, 615, 224688, 619, 837, 1536, 220645,\n",
    "    226534,\n",
    "    626, 442, 227243, 224167, 220179, 225309, 6701, 220050, 51, 455, 223761, 677, 676, 679, 678, 223762, 224685, 682,\n",
    "    224684, 683, 684, 224686, 1539, 849, 851, 227429, 859, 226531, 763, 224639, 226512, 861, 1542, 220546, 1127)\n",
    "query = f\"SELECT * FROM CHARTEVENTS WHERE ITEMID IN {chartevents_items} ORDER BY CHARTTIME;\"\n",
    "chartevents_raw = pd.read_sql(query, db_engine)"
   ],
   "id": "ce9b4e22edb9732d",
   "outputs": [],
   "execution_count": 12
  },
  {
   "metadata": {
    "ExecuteTime": {
     "end_time": "2025-02-21T01:41:33.164814Z",
     "start_time": "2025-02-21T01:41:11.591541Z"
    }
   },
   "cell_type": "code",
   "source": [
    "chartevents_raw = pd.read_csv(processed_tables_path + \"raw_chartevents.csv\")\n",
    "chartevents_raw[\"CHARTTIME\"] = pd.to_datetime(chartevents_raw[\"CHARTTIME\"])\n",
    "chartevents_raw[\"ICUSTAY_ID\"].unique()"
   ],
   "id": "7418827dda496e99",
   "outputs": [
    {
     "ename": "KeyboardInterrupt",
     "evalue": "",
     "output_type": "error",
     "traceback": [
      "\u001B[0;31m---------------------------------------------------------------------------\u001B[0m",
      "\u001B[0;31mKeyboardInterrupt\u001B[0m                         Traceback (most recent call last)",
      "File \u001B[0;32m~/anaconda3/envs/venvpy312/lib/python3.12/site-packages/pandas/io/parsers/readers.py:626\u001B[0m, in \u001B[0;36m_read\u001B[0;34m(filepath_or_buffer, kwds)\u001B[0m\n\u001B[1;32m    625\u001B[0m \u001B[38;5;28;01mwith\u001B[39;00m parser:\n\u001B[0;32m--> 626\u001B[0m     \u001B[38;5;28;01mreturn\u001B[39;00m parser\u001B[38;5;241m.\u001B[39mread(nrows)\n",
      "File \u001B[0;32m~/anaconda3/envs/venvpy312/lib/python3.12/site-packages/pandas/io/parsers/readers.py:1923\u001B[0m, in \u001B[0;36mTextFileReader.read\u001B[0;34m(self, nrows)\u001B[0m\n\u001B[1;32m   1917\u001B[0m \u001B[38;5;28;01mtry\u001B[39;00m:\n\u001B[1;32m   1918\u001B[0m     \u001B[38;5;66;03m# error: \"ParserBase\" has no attribute \"read\"\u001B[39;00m\n\u001B[1;32m   1919\u001B[0m     (\n\u001B[1;32m   1920\u001B[0m         index,\n\u001B[1;32m   1921\u001B[0m         columns,\n\u001B[1;32m   1922\u001B[0m         col_dict,\n\u001B[0;32m-> 1923\u001B[0m     ) \u001B[38;5;241m=\u001B[39m \u001B[38;5;28mself\u001B[39m\u001B[38;5;241m.\u001B[39m_engine\u001B[38;5;241m.\u001B[39mread(  \u001B[38;5;66;03m# type: ignore[attr-defined]\u001B[39;00m\n\u001B[1;32m   1924\u001B[0m         nrows\n\u001B[1;32m   1925\u001B[0m     )\n\u001B[1;32m   1926\u001B[0m \u001B[38;5;28;01mexcept\u001B[39;00m \u001B[38;5;167;01mException\u001B[39;00m:\n",
      "File \u001B[0;32m~/anaconda3/envs/venvpy312/lib/python3.12/site-packages/pandas/io/parsers/c_parser_wrapper.py:234\u001B[0m, in \u001B[0;36mCParserWrapper.read\u001B[0;34m(self, nrows)\u001B[0m\n\u001B[1;32m    233\u001B[0m \u001B[38;5;28;01mif\u001B[39;00m \u001B[38;5;28mself\u001B[39m\u001B[38;5;241m.\u001B[39mlow_memory:\n\u001B[0;32m--> 234\u001B[0m     chunks \u001B[38;5;241m=\u001B[39m \u001B[38;5;28mself\u001B[39m\u001B[38;5;241m.\u001B[39m_reader\u001B[38;5;241m.\u001B[39mread_low_memory(nrows)\n\u001B[1;32m    235\u001B[0m     \u001B[38;5;66;03m# destructive to chunks\u001B[39;00m\n",
      "File \u001B[0;32mparsers.pyx:838\u001B[0m, in \u001B[0;36mpandas._libs.parsers.TextReader.read_low_memory\u001B[0;34m()\u001B[0m\n",
      "File \u001B[0;32mparsers.pyx:905\u001B[0m, in \u001B[0;36mpandas._libs.parsers.TextReader._read_rows\u001B[0;34m()\u001B[0m\n",
      "File \u001B[0;32mparsers.pyx:874\u001B[0m, in \u001B[0;36mpandas._libs.parsers.TextReader._tokenize_rows\u001B[0;34m()\u001B[0m\n",
      "File \u001B[0;32mparsers.pyx:891\u001B[0m, in \u001B[0;36mpandas._libs.parsers.TextReader._check_tokenize_status\u001B[0;34m()\u001B[0m\n",
      "File \u001B[0;32mparsers.pyx:2053\u001B[0m, in \u001B[0;36mpandas._libs.parsers.raise_parser_error\u001B[0;34m()\u001B[0m\n",
      "File \u001B[0;32m~/anaconda3/envs/venvpy312/lib/python3.12/codecs.py:331\u001B[0m, in \u001B[0;36mBufferedIncrementalDecoder.getstate\u001B[0;34m(self)\u001B[0m\n\u001B[1;32m    329\u001B[0m     \u001B[38;5;28mself\u001B[39m\u001B[38;5;241m.\u001B[39mbuffer \u001B[38;5;241m=\u001B[39m \u001B[38;5;124mb\u001B[39m\u001B[38;5;124m\"\u001B[39m\u001B[38;5;124m\"\u001B[39m\n\u001B[0;32m--> 331\u001B[0m \u001B[38;5;28;01mdef\u001B[39;00m \u001B[38;5;21mgetstate\u001B[39m(\u001B[38;5;28mself\u001B[39m):\n\u001B[1;32m    332\u001B[0m     \u001B[38;5;66;03m# additional state info is always 0\u001B[39;00m\n\u001B[1;32m    333\u001B[0m     \u001B[38;5;28;01mreturn\u001B[39;00m (\u001B[38;5;28mself\u001B[39m\u001B[38;5;241m.\u001B[39mbuffer, \u001B[38;5;241m0\u001B[39m)\n",
      "\u001B[0;31mKeyboardInterrupt\u001B[0m: ",
      "\nDuring handling of the above exception, another exception occurred:\n",
      "\u001B[0;31mKeyboardInterrupt\u001B[0m                         Traceback (most recent call last)",
      "Cell \u001B[0;32mIn[3], line 1\u001B[0m\n\u001B[0;32m----> 1\u001B[0m chartevents_raw \u001B[38;5;241m=\u001B[39m pd\u001B[38;5;241m.\u001B[39mread_csv(processed_data_path\u001B[38;5;241m+\u001B[39m\u001B[38;5;124m\"\u001B[39m\u001B[38;5;124mraw_chartevents.csv\u001B[39m\u001B[38;5;124m\"\u001B[39m)\n\u001B[1;32m      2\u001B[0m chartevents_raw[\u001B[38;5;124m\"\u001B[39m\u001B[38;5;124mCHARTTIME\u001B[39m\u001B[38;5;124m\"\u001B[39m] \u001B[38;5;241m=\u001B[39m pd\u001B[38;5;241m.\u001B[39mto_datetime(chartevents_raw[\u001B[38;5;124m\"\u001B[39m\u001B[38;5;124mCHARTTIME\u001B[39m\u001B[38;5;124m\"\u001B[39m])\n\u001B[1;32m      3\u001B[0m chartevents_raw[\u001B[38;5;124m\"\u001B[39m\u001B[38;5;124mICUSTAY_ID\u001B[39m\u001B[38;5;124m\"\u001B[39m]\u001B[38;5;241m.\u001B[39munique()\n",
      "File \u001B[0;32m~/anaconda3/envs/venvpy312/lib/python3.12/site-packages/pandas/io/parsers/readers.py:1026\u001B[0m, in \u001B[0;36mread_csv\u001B[0;34m(filepath_or_buffer, sep, delimiter, header, names, index_col, usecols, dtype, engine, converters, true_values, false_values, skipinitialspace, skiprows, skipfooter, nrows, na_values, keep_default_na, na_filter, verbose, skip_blank_lines, parse_dates, infer_datetime_format, keep_date_col, date_parser, date_format, dayfirst, cache_dates, iterator, chunksize, compression, thousands, decimal, lineterminator, quotechar, quoting, doublequote, escapechar, comment, encoding, encoding_errors, dialect, on_bad_lines, delim_whitespace, low_memory, memory_map, float_precision, storage_options, dtype_backend)\u001B[0m\n\u001B[1;32m   1013\u001B[0m kwds_defaults \u001B[38;5;241m=\u001B[39m _refine_defaults_read(\n\u001B[1;32m   1014\u001B[0m     dialect,\n\u001B[1;32m   1015\u001B[0m     delimiter,\n\u001B[0;32m   (...)\u001B[0m\n\u001B[1;32m   1022\u001B[0m     dtype_backend\u001B[38;5;241m=\u001B[39mdtype_backend,\n\u001B[1;32m   1023\u001B[0m )\n\u001B[1;32m   1024\u001B[0m kwds\u001B[38;5;241m.\u001B[39mupdate(kwds_defaults)\n\u001B[0;32m-> 1026\u001B[0m \u001B[38;5;28;01mreturn\u001B[39;00m _read(filepath_or_buffer, kwds)\n",
      "File \u001B[0;32m~/anaconda3/envs/venvpy312/lib/python3.12/site-packages/pandas/io/parsers/readers.py:625\u001B[0m, in \u001B[0;36m_read\u001B[0;34m(filepath_or_buffer, kwds)\u001B[0m\n\u001B[1;32m    622\u001B[0m \u001B[38;5;28;01mif\u001B[39;00m chunksize \u001B[38;5;129;01mor\u001B[39;00m iterator:\n\u001B[1;32m    623\u001B[0m     \u001B[38;5;28;01mreturn\u001B[39;00m parser\n\u001B[0;32m--> 625\u001B[0m \u001B[38;5;28;01mwith\u001B[39;00m parser:\n\u001B[1;32m    626\u001B[0m     \u001B[38;5;28;01mreturn\u001B[39;00m parser\u001B[38;5;241m.\u001B[39mread(nrows)\n",
      "File \u001B[0;32m~/anaconda3/envs/venvpy312/lib/python3.12/site-packages/pandas/io/parsers/readers.py:1990\u001B[0m, in \u001B[0;36mTextFileReader.__exit__\u001B[0;34m(self, exc_type, exc_value, traceback)\u001B[0m\n\u001B[1;32m   1987\u001B[0m \u001B[38;5;28;01mdef\u001B[39;00m \u001B[38;5;21m__enter__\u001B[39m(\u001B[38;5;28mself\u001B[39m) \u001B[38;5;241m-\u001B[39m\u001B[38;5;241m>\u001B[39m Self:\n\u001B[1;32m   1988\u001B[0m     \u001B[38;5;28;01mreturn\u001B[39;00m \u001B[38;5;28mself\u001B[39m\n\u001B[0;32m-> 1990\u001B[0m \u001B[38;5;28;01mdef\u001B[39;00m \u001B[38;5;21m__exit__\u001B[39m(\n\u001B[1;32m   1991\u001B[0m     \u001B[38;5;28mself\u001B[39m,\n\u001B[1;32m   1992\u001B[0m     exc_type: \u001B[38;5;28mtype\u001B[39m[\u001B[38;5;167;01mBaseException\u001B[39;00m] \u001B[38;5;241m|\u001B[39m \u001B[38;5;28;01mNone\u001B[39;00m,\n\u001B[1;32m   1993\u001B[0m     exc_value: \u001B[38;5;167;01mBaseException\u001B[39;00m \u001B[38;5;241m|\u001B[39m \u001B[38;5;28;01mNone\u001B[39;00m,\n\u001B[1;32m   1994\u001B[0m     traceback: TracebackType \u001B[38;5;241m|\u001B[39m \u001B[38;5;28;01mNone\u001B[39;00m,\n\u001B[1;32m   1995\u001B[0m ) \u001B[38;5;241m-\u001B[39m\u001B[38;5;241m>\u001B[39m \u001B[38;5;28;01mNone\u001B[39;00m:\n\u001B[1;32m   1996\u001B[0m     \u001B[38;5;28mself\u001B[39m\u001B[38;5;241m.\u001B[39mclose()\n",
      "\u001B[0;31mKeyboardInterrupt\u001B[0m: "
     ]
    }
   ],
   "execution_count": 3
  },
  {
   "metadata": {
    "ExecuteTime": {
     "end_time": "2025-02-21T01:41:33.000295800Z",
     "start_time": "2025-02-20T13:46:12.201769Z"
    }
   },
   "cell_type": "code",
   "source": [
    "chartevents = om.Chartevents()\n",
    "chartevents.load(chartevents_raw, patients_static.patients_T_info)\n",
    "chartevents.process()"
   ],
   "id": "797b189a07503649",
   "outputs": [
    {
     "name": "stdout",
     "output_type": "stream",
     "text": [
      "../mimic3_csv/\n",
      "Chartevents data updated!\n",
      "-----------------------------------\n",
      "Filtering...\n",
      "-> filter_remove_unassociated_columns...\t Complete!\t1.20s\n",
      "-> filter_remove_no_ICUSTAY_ID...\t Complete!\t2.33s\n",
      "-> filter_remove_error...\t Complete!\t1.82s\n",
      "-> filter_remove_labitems...\t../mimic3_csv/\n",
      " Complete!\t1.25s\n",
      "Chartevents data updated!\n",
      "=> Before: 66,635,422, After: 66,534,355 : 99.85% remained.\n",
      "Filtering Complete!\n",
      "-----------------------------------\n",
      "Processing...\n",
      "-> process_group_variables_from_fiddle...\t Complete!\t20.60s\n",
      "Chartevents data updated!\n",
      "-> process_aggregator...\t Complete!\t6m 25.68s\n",
      "-> process_interval_shift_alignment...\t Complete!\t4.50s\n",
      "Processing Complete!\n"
     ]
    }
   ],
   "execution_count": 4
  },
  {
   "metadata": {},
   "cell_type": "markdown",
   "source": "# Inputevents_MV",
   "id": "5c0e668a0634a23c"
  },
  {
   "metadata": {
    "ExecuteTime": {
     "end_time": "2025-02-20T14:39:30.759779Z",
     "start_time": "2025-02-20T14:38:32.595690Z"
    }
   },
   "cell_type": "code",
   "source": [
    "columns = \"ROW_ID, ICUSTAY_ID, STARTTIME, ENDTIME, ITEMID, AMOUNT, AMOUNTUOM, RATE, RATEUOM, PATIENTWEIGHT\"\n",
    "columns = \"*\"\n",
    "query = f\"SELECT {columns} FROM INPUTEVENTS_MV\"\n",
    "inputevents_mv_raw = pd.read_sql(query, db_engine)"
   ],
   "id": "a1352317e26badc0",
   "outputs": [],
   "execution_count": 4
  },
  {
   "metadata": {
    "ExecuteTime": {
     "end_time": "2025-02-20T14:43:56.454448Z",
     "start_time": "2025-02-20T14:39:30.766613Z"
    }
   },
   "cell_type": "code",
   "source": [
    "inputevents_mv = om.InputeventsMV()\n",
    "inputevents_mv.load(inputevents_mv_raw, patients_static.patients_T_info)\n",
    "inputevents_mv.process()"
   ],
   "id": "870ba5890b59a6d1",
   "outputs": [
    {
     "name": "stdout",
     "output_type": "stream",
     "text": [
      "-----------------------------------\n",
      "Filtering...\n",
      "-> filter_remove_unassociated_columns...\t Complete!\t0.26s\n",
      "-> filter_remove_no_ICUSTAY_ID...\t Complete!\t0.34s\n",
      "-> filter_remove_error...\t Complete!\t0.63s\n",
      "-> filter_remove_zero_input...\t Complete!\t0.58s\n",
      "-> filter_remove_continuous_uom_missing...\t Complete!\t0.69s\n",
      "=> Before: 3,618,991, After: 2,535,497 : 70.06% remained.\n",
      "Filtering Complete!\n",
      "-----------------------------------\n",
      "Processing...\n",
      "-> process_rateuom_into_hour_unit...\t Complete!\t3.02s\n",
      "-> process_unite_convertable_uom_by_D_ITEMS...\t Complete!\t4.57s\n",
      "-> process_split_ITEMID_by_unit...\t Complete!\t3.49s\n",
      "-> process_transform_T_cohort...\t Complete!\t4m 8.95s\n",
      "Processing Complete!\n"
     ]
    }
   ],
   "execution_count": 5
  },
  {
   "metadata": {},
   "cell_type": "markdown",
   "source": "# Outputevents",
   "id": "71c81794df08685c"
  },
  {
   "metadata": {
    "ExecuteTime": {
     "end_time": "2025-02-21T03:44:15.575618Z",
     "start_time": "2025-02-21T03:43:39.618177Z"
    }
   },
   "cell_type": "code",
   "source": [
    "columns = \"*\"\n",
    "query = f\"SELECT {columns} FROM OUTPUTEVENTS\"\n",
    "outputevents_raw = pd.read_sql(query, db_engine)"
   ],
   "id": "72e183c92e0cad16",
   "outputs": [],
   "execution_count": 7
  },
  {
   "metadata": {
    "ExecuteTime": {
     "end_time": "2025-02-21T03:46:56.396567Z",
     "start_time": "2025-02-21T03:44:15.583489Z"
    }
   },
   "cell_type": "code",
   "source": [
    "outputevents = om.Outputevents()\n",
    "outputevents.load(outputevents_raw, patients_static.patients_T_info)\n",
    "outputevents.process()"
   ],
   "id": "5e69ee72869bc146",
   "outputs": [
    {
     "name": "stdout",
     "output_type": "stream",
     "text": [
      "-----------------------------------\n",
      "Filtering...\n",
      "-> filter_remove_unassociated_columns...\t Complete!\t0.08s\n",
      "-> filter_remove_no_ICUSTAY_ID...\t Complete!\t0.14s\n",
      "-> filter_remove_error...\t Complete!\t0.07s\n",
      "-> filter_remove_zero_value...\t Complete!\t0.11s\n",
      "Outputevents data updated!\n",
      "Filtering Complete!\n",
      "=> Before: 4,349,218, After: 4,046,702 : 93.04% remained.\n",
      "-----------------------------------\n",
      "Processing...\n",
      "-> process_aggregator...\t Complete!\t2m 19.78s\n",
      "-> process_interval_shift_alignment...\t Complete!\t17.39s\n",
      "Processing Complete!\n"
     ]
    }
   ],
   "execution_count": 8
  },
  {
   "metadata": {},
   "cell_type": "markdown",
   "source": "# Labevents",
   "id": "a600fc4b36749437"
  },
  {
   "metadata": {
    "ExecuteTime": {
     "end_time": "2025-03-05T05:31:21.606071Z",
     "start_time": "2025-03-05T05:28:38.750883Z"
    }
   },
   "cell_type": "code",
   "source": [
    "columns = \"*\"\n",
    "query = f\"SELECT {columns} FROM LABEVENTS\"\n",
    "labevents_raw = pd.read_sql(query, db_engine)"
   ],
   "id": "f58f2f966028b952",
   "outputs": [],
   "execution_count": 3
  },
  {
   "metadata": {
    "ExecuteTime": {
     "end_time": "2025-03-05T05:31:22.145496Z",
     "start_time": "2025-03-05T05:31:21.633052Z"
    }
   },
   "cell_type": "code",
   "source": [
    "query = f\"SELECT * FROM ICUSTAYS\"\n",
    "icustay_raw = pd.read_sql(query, db_engine)"
   ],
   "id": "b9d70e2ff4d14b73",
   "outputs": [],
   "execution_count": 4
  },
  {
   "metadata": {
    "ExecuteTime": {
     "end_time": "2025-03-05T05:33:58.651350Z",
     "start_time": "2025-03-05T05:31:22.151043Z"
    }
   },
   "cell_type": "code",
   "source": [
    "labevents = om.Labevents()\n",
    "labevents.load(labevents_raw, patients_static.patients_T_info)\n",
    "labevents.attach_icustay_id(icustay_raw)\n",
    "labevents.filter()\n",
    "labevents.process()"
   ],
   "id": "9b5317ea562614a8",
   "outputs": [
    {
     "name": "stdout",
     "output_type": "stream",
     "text": [
      "ICUSTAY_ID attached\n",
      "-----------------------------------\n",
      "Filtering...\n",
      "-> filter_remove_unassociated_columns...\t Complete!\t0.74s\n",
      "-> filter_remove_no_ICUSTAY_ID...\t Complete!\t1.10s\n",
      "-> filter_remove_non_numeric_value...\t"
     ]
    },
    {
     "name": "stderr",
     "output_type": "stream",
     "text": [
      "/home/jgpark/PycharmProjects/MIMIC_preprocessing/openmimic/labevents_engineering.py:12: SettingWithCopyWarning: \n",
      "A value is trying to be set on a copy of a slice from a DataFrame.\n",
      "Try using .loc[row_indexer,col_indexer] = value instead\n",
      "\n",
      "See the caveats in the documentation: https://pandas.pydata.org/pandas-docs/stable/user_guide/indexing.html#returning-a-view-versus-a-copy\n",
      "  labevents[\"VALUE\"] = labevents[\"VALUE\"].astype(float)\n"
     ]
    },
    {
     "name": "stdout",
     "output_type": "stream",
     "text": [
      " Complete!\t6.95s\n",
      "=> Before: 32,331,081, After: 24,066,566 : 74.44% remained.\n",
      "Filtering Complete!\n",
      "-----------------------------------\n",
      "Processing...\n",
      "-> process_aggregator...\t Complete!\t2m 16.38s\n",
      "Processing Complete!\n"
     ]
    }
   ],
   "execution_count": 5
  },
  {
   "metadata": {},
   "cell_type": "markdown",
   "source": "# Cohort Integration\n",
   "id": "fbfd6354098622e"
  },
  {
   "metadata": {
    "ExecuteTime": {
     "end_time": "2025-02-27T08:22:10.606337Z",
     "start_time": "2025-02-27T08:22:09.603694Z"
    }
   },
   "cell_type": "code",
   "source": [
    "patients_static_csv = pd.read_csv(processed_tables_path + \"p_patients_static.csv\")\n",
    "patients_static_T_info_csv = pd.read_csv(processed_tables_path + \"p_patients_static_T_info.csv\")\n",
    "chartevents = pd.read_csv(processed_tables_path + \"p_chartevents.csv\")\n",
    "inputevents_mv = pd.read_csv(processed_tables_path + \"p_inputevents_mv.csv\")\n",
    "outputevents = pd.read_csv(processed_tables_path + \"p_outputevents.csv\")\n",
    "labevents = pd.read_csv(processed_tables_path + \"p_labevents.csv\")\n",
    "\n",
    "patients_static = om.PatientStatic()\n",
    "patients_static.load_processed(patients_static_csv, patients_static_T_info_csv)\n",
    "chartevents = om.Chartevents().load_processed(chartevents)\n",
    "inputevents_mv = om.InputeventsMV().load_processed(inputevents_mv)\n",
    "outputevents = om.Outputevents().load_processed(outputevents)\n",
    "labevents = om.Labevents().load_processed(labevents, patients_static.patients_T_info)"
   ],
   "id": "6afe6dd3d09625c0",
   "outputs": [
    {
     "name": "stderr",
     "output_type": "stream",
     "text": [
      "\n",
      "KeyboardInterrupt\n",
      "\n"
     ]
    }
   ],
   "execution_count": 3
  },
  {
   "metadata": {
    "ExecuteTime": {
     "end_time": "2025-02-26T05:59:39.225045Z",
     "start_time": "2025-02-26T05:59:38.698610Z"
    }
   },
   "cell_type": "code",
   "source": [
    "cohort = om.Cohort(patients_static, chartevents, inputevents_mv)\n",
    "cohort.make_cohort()\n",
    "cohort.data.sort_values(by=[\"ICUSTAY_ID\", \"T\"])"
   ],
   "id": "2269596a9a352368",
   "outputs": [],
   "execution_count": 11
  },
  {
   "metadata": {
    "ExecuteTime": {
     "end_time": "2025-02-25T15:03:35.618428Z",
     "start_time": "2025-02-25T15:03:08.369140Z"
    }
   },
   "cell_type": "code",
   "source": [
    "features, label = cohort.make_train_set()\n",
    "# features.to_csv(processed_data_path+\"mimic_features.csv\")\n",
    "# label.to_csv(processed_data_path+\"mimic_label.csv\")"
   ],
   "id": "56b57c0685d62639",
   "outputs": [],
   "execution_count": 26
  },
  {
   "metadata": {
    "ExecuteTime": {
     "end_time": "2025-02-27T08:33:06.335739Z",
     "start_time": "2025-02-27T08:32:52.408964Z"
    }
   },
   "cell_type": "code",
   "source": [
    "df = pd.read_csv(processed_tables_path + \"cohort.csv\", index_col=0)\n",
    "cohort = om.Cohort(cohort=df)"
   ],
   "id": "24650562178771c0",
   "outputs": [
    {
     "name": "stderr",
     "output_type": "stream",
     "text": [
      "/tmp/ipykernel_2501554/2820402200.py:1: DtypeWarning: Columns (17) have mixed types. Specify dtype option on import or set low_memory=False.\n",
      "  df = pd.read_csv(processed_data_path+\"cohort.csv\", index_col=0)\n"
     ]
    }
   ],
   "execution_count": 11
  },
  {
   "metadata": {
    "ExecuteTime": {
     "end_time": "2025-02-27T08:34:16.882574Z",
     "start_time": "2025-02-27T08:34:16.684908Z"
    }
   },
   "cell_type": "code",
   "source": "cohort.data",
   "id": "8a59765c7f349175",
   "outputs": [
    {
     "data": {
      "text/plain": [
       "         SUBJECT_ID      AGE GENDER ADMISSION_TYPE         ADMISSION_LOCATION  \\\n",
       "0                 2   0.0000      M        NEWBORN  PHYS REFERRAL/NORMAL DELI   \n",
       "1                 2   0.0000      M        NEWBORN  PHYS REFERRAL/NORMAL DELI   \n",
       "2                 3  76.5753      M      EMERGENCY       EMERGENCY ROOM ADMIT   \n",
       "3                 3  76.5753      M      EMERGENCY       EMERGENCY ROOM ADMIT   \n",
       "4                 3  76.5753      M      EMERGENCY       EMERGENCY ROOM ADMIT   \n",
       "...             ...      ...    ...            ...                        ...   \n",
       "2239467       99999  64.0247      F       ELECTIVE  PHYS REFERRAL/NORMAL DELI   \n",
       "2239468       99999  64.0247      F       ELECTIVE  PHYS REFERRAL/NORMAL DELI   \n",
       "2239469       99999  64.0247      F       ELECTIVE  PHYS REFERRAL/NORMAL DELI   \n",
       "2239470       99999  64.0247      F       ELECTIVE  PHYS REFERRAL/NORMAL DELI   \n",
       "2239471       99999  64.0247      F       ELECTIVE  PHYS REFERRAL/NORMAL DELI   \n",
       "\n",
       "         ICUSTAY_ID     LOS FIRST_CAREUNIT  FIRST_WARDID  HADM_to_ICU_time  \\\n",
       "0            243653  0.0918           NICU            56                 0   \n",
       "1            243653  0.0918           NICU            56                 0   \n",
       "2            211552  6.0646           MICU            12                 0   \n",
       "3            211552  6.0646           MICU            12                 0   \n",
       "4            211552  6.0646           MICU            12                 0   \n",
       "...             ...     ...            ...           ...               ...   \n",
       "2239467      246512  1.1242           SICU            33                 1   \n",
       "2239468      246512  1.1242           SICU            33                 1   \n",
       "2239469      246512  1.1242           SICU            33                 1   \n",
       "2239470      246512  1.1242           SICU            33                 1   \n",
       "2239471      246512  1.1242           SICU            33                 1   \n",
       "\n",
       "         ... Replete (2/3) (0) Imipenem/Cilastatin (1)  \\\n",
       "0        ...               NaN                     NaN   \n",
       "1        ...               NaN                     NaN   \n",
       "2        ...               NaN                     NaN   \n",
       "3        ...               NaN                     NaN   \n",
       "4        ...               NaN                     NaN   \n",
       "...      ...               ...                     ...   \n",
       "2239467  ...               NaN                     NaN   \n",
       "2239468  ...               NaN                     NaN   \n",
       "2239469  ...               NaN                     NaN   \n",
       "2239470  ...               NaN                     NaN   \n",
       "2239471  ...               NaN                     NaN   \n",
       "\n",
       "        Boost Glucose Control (3/4) (0) Resource Fruit Beverage (0)  \\\n",
       "0                                   NaN                         NaN   \n",
       "1                                   NaN                         NaN   \n",
       "2                                   NaN                         NaN   \n",
       "3                                   NaN                         NaN   \n",
       "4                                   NaN                         NaN   \n",
       "...                                 ...                         ...   \n",
       "2239467                             NaN                         NaN   \n",
       "2239468                             NaN                         NaN   \n",
       "2239469                             NaN                         NaN   \n",
       "2239470                             NaN                         NaN   \n",
       "2239471                             NaN                         NaN   \n",
       "\n",
       "        Mighty Shake (no sugar added) (0) Nutren 2.0 (3/4) (0) Keflex (1)  \\\n",
       "0                                     NaN                  NaN        NaN   \n",
       "1                                     NaN                  NaN        NaN   \n",
       "2                                     NaN                  NaN        NaN   \n",
       "3                                     NaN                  NaN        NaN   \n",
       "4                                     NaN                  NaN        NaN   \n",
       "...                                   ...                  ...        ...   \n",
       "2239467                               NaN                  NaN        NaN   \n",
       "2239468                               NaN                  NaN        NaN   \n",
       "2239469                               NaN                  NaN        NaN   \n",
       "2239470                               NaN                  NaN        NaN   \n",
       "2239471                               NaN                  NaN        NaN   \n",
       "\n",
       "        Quinine (0) Lansoprazole (Prevacid) (1)  label  \n",
       "0               NaN                         NaN      0  \n",
       "1               NaN                         NaN      0  \n",
       "2               NaN                         NaN      0  \n",
       "3               NaN                         NaN      0  \n",
       "4               NaN                         NaN      0  \n",
       "...             ...                         ...    ...  \n",
       "2239467         NaN                         NaN      0  \n",
       "2239468         NaN                         NaN      0  \n",
       "2239469         NaN                         NaN      0  \n",
       "2239470         NaN                         NaN      0  \n",
       "2239471         NaN                         NaN      0  \n",
       "\n",
       "[2239472 rows x 473 columns]"
      ],
      "text/html": [
       "<div>\n",
       "<style scoped>\n",
       "    .dataframe tbody tr th:only-of-type {\n",
       "        vertical-align: middle;\n",
       "    }\n",
       "\n",
       "    .dataframe tbody tr th {\n",
       "        vertical-align: top;\n",
       "    }\n",
       "\n",
       "    .dataframe thead th {\n",
       "        text-align: right;\n",
       "    }\n",
       "</style>\n",
       "<table border=\"1\" class=\"dataframe\">\n",
       "  <thead>\n",
       "    <tr style=\"text-align: right;\">\n",
       "      <th></th>\n",
       "      <th>SUBJECT_ID</th>\n",
       "      <th>AGE</th>\n",
       "      <th>GENDER</th>\n",
       "      <th>ADMISSION_TYPE</th>\n",
       "      <th>ADMISSION_LOCATION</th>\n",
       "      <th>ICUSTAY_ID</th>\n",
       "      <th>LOS</th>\n",
       "      <th>FIRST_CAREUNIT</th>\n",
       "      <th>FIRST_WARDID</th>\n",
       "      <th>HADM_to_ICU_time</th>\n",
       "      <th>...</th>\n",
       "      <th>Replete (2/3) (0)</th>\n",
       "      <th>Imipenem/Cilastatin (1)</th>\n",
       "      <th>Boost Glucose Control (3/4) (0)</th>\n",
       "      <th>Resource Fruit Beverage (0)</th>\n",
       "      <th>Mighty Shake (no sugar added) (0)</th>\n",
       "      <th>Nutren 2.0 (3/4) (0)</th>\n",
       "      <th>Keflex (1)</th>\n",
       "      <th>Quinine (0)</th>\n",
       "      <th>Lansoprazole (Prevacid) (1)</th>\n",
       "      <th>label</th>\n",
       "    </tr>\n",
       "  </thead>\n",
       "  <tbody>\n",
       "    <tr>\n",
       "      <th>0</th>\n",
       "      <td>2</td>\n",
       "      <td>0.0000</td>\n",
       "      <td>M</td>\n",
       "      <td>NEWBORN</td>\n",
       "      <td>PHYS REFERRAL/NORMAL DELI</td>\n",
       "      <td>243653</td>\n",
       "      <td>0.0918</td>\n",
       "      <td>NICU</td>\n",
       "      <td>56</td>\n",
       "      <td>0</td>\n",
       "      <td>...</td>\n",
       "      <td>NaN</td>\n",
       "      <td>NaN</td>\n",
       "      <td>NaN</td>\n",
       "      <td>NaN</td>\n",
       "      <td>NaN</td>\n",
       "      <td>NaN</td>\n",
       "      <td>NaN</td>\n",
       "      <td>NaN</td>\n",
       "      <td>NaN</td>\n",
       "      <td>0</td>\n",
       "    </tr>\n",
       "    <tr>\n",
       "      <th>1</th>\n",
       "      <td>2</td>\n",
       "      <td>0.0000</td>\n",
       "      <td>M</td>\n",
       "      <td>NEWBORN</td>\n",
       "      <td>PHYS REFERRAL/NORMAL DELI</td>\n",
       "      <td>243653</td>\n",
       "      <td>0.0918</td>\n",
       "      <td>NICU</td>\n",
       "      <td>56</td>\n",
       "      <td>0</td>\n",
       "      <td>...</td>\n",
       "      <td>NaN</td>\n",
       "      <td>NaN</td>\n",
       "      <td>NaN</td>\n",
       "      <td>NaN</td>\n",
       "      <td>NaN</td>\n",
       "      <td>NaN</td>\n",
       "      <td>NaN</td>\n",
       "      <td>NaN</td>\n",
       "      <td>NaN</td>\n",
       "      <td>0</td>\n",
       "    </tr>\n",
       "    <tr>\n",
       "      <th>2</th>\n",
       "      <td>3</td>\n",
       "      <td>76.5753</td>\n",
       "      <td>M</td>\n",
       "      <td>EMERGENCY</td>\n",
       "      <td>EMERGENCY ROOM ADMIT</td>\n",
       "      <td>211552</td>\n",
       "      <td>6.0646</td>\n",
       "      <td>MICU</td>\n",
       "      <td>12</td>\n",
       "      <td>0</td>\n",
       "      <td>...</td>\n",
       "      <td>NaN</td>\n",
       "      <td>NaN</td>\n",
       "      <td>NaN</td>\n",
       "      <td>NaN</td>\n",
       "      <td>NaN</td>\n",
       "      <td>NaN</td>\n",
       "      <td>NaN</td>\n",
       "      <td>NaN</td>\n",
       "      <td>NaN</td>\n",
       "      <td>0</td>\n",
       "    </tr>\n",
       "    <tr>\n",
       "      <th>3</th>\n",
       "      <td>3</td>\n",
       "      <td>76.5753</td>\n",
       "      <td>M</td>\n",
       "      <td>EMERGENCY</td>\n",
       "      <td>EMERGENCY ROOM ADMIT</td>\n",
       "      <td>211552</td>\n",
       "      <td>6.0646</td>\n",
       "      <td>MICU</td>\n",
       "      <td>12</td>\n",
       "      <td>0</td>\n",
       "      <td>...</td>\n",
       "      <td>NaN</td>\n",
       "      <td>NaN</td>\n",
       "      <td>NaN</td>\n",
       "      <td>NaN</td>\n",
       "      <td>NaN</td>\n",
       "      <td>NaN</td>\n",
       "      <td>NaN</td>\n",
       "      <td>NaN</td>\n",
       "      <td>NaN</td>\n",
       "      <td>0</td>\n",
       "    </tr>\n",
       "    <tr>\n",
       "      <th>4</th>\n",
       "      <td>3</td>\n",
       "      <td>76.5753</td>\n",
       "      <td>M</td>\n",
       "      <td>EMERGENCY</td>\n",
       "      <td>EMERGENCY ROOM ADMIT</td>\n",
       "      <td>211552</td>\n",
       "      <td>6.0646</td>\n",
       "      <td>MICU</td>\n",
       "      <td>12</td>\n",
       "      <td>0</td>\n",
       "      <td>...</td>\n",
       "      <td>NaN</td>\n",
       "      <td>NaN</td>\n",
       "      <td>NaN</td>\n",
       "      <td>NaN</td>\n",
       "      <td>NaN</td>\n",
       "      <td>NaN</td>\n",
       "      <td>NaN</td>\n",
       "      <td>NaN</td>\n",
       "      <td>NaN</td>\n",
       "      <td>0</td>\n",
       "    </tr>\n",
       "    <tr>\n",
       "      <th>...</th>\n",
       "      <td>...</td>\n",
       "      <td>...</td>\n",
       "      <td>...</td>\n",
       "      <td>...</td>\n",
       "      <td>...</td>\n",
       "      <td>...</td>\n",
       "      <td>...</td>\n",
       "      <td>...</td>\n",
       "      <td>...</td>\n",
       "      <td>...</td>\n",
       "      <td>...</td>\n",
       "      <td>...</td>\n",
       "      <td>...</td>\n",
       "      <td>...</td>\n",
       "      <td>...</td>\n",
       "      <td>...</td>\n",
       "      <td>...</td>\n",
       "      <td>...</td>\n",
       "      <td>...</td>\n",
       "      <td>...</td>\n",
       "      <td>...</td>\n",
       "    </tr>\n",
       "    <tr>\n",
       "      <th>2239467</th>\n",
       "      <td>99999</td>\n",
       "      <td>64.0247</td>\n",
       "      <td>F</td>\n",
       "      <td>ELECTIVE</td>\n",
       "      <td>PHYS REFERRAL/NORMAL DELI</td>\n",
       "      <td>246512</td>\n",
       "      <td>1.1242</td>\n",
       "      <td>SICU</td>\n",
       "      <td>33</td>\n",
       "      <td>1</td>\n",
       "      <td>...</td>\n",
       "      <td>NaN</td>\n",
       "      <td>NaN</td>\n",
       "      <td>NaN</td>\n",
       "      <td>NaN</td>\n",
       "      <td>NaN</td>\n",
       "      <td>NaN</td>\n",
       "      <td>NaN</td>\n",
       "      <td>NaN</td>\n",
       "      <td>NaN</td>\n",
       "      <td>0</td>\n",
       "    </tr>\n",
       "    <tr>\n",
       "      <th>2239468</th>\n",
       "      <td>99999</td>\n",
       "      <td>64.0247</td>\n",
       "      <td>F</td>\n",
       "      <td>ELECTIVE</td>\n",
       "      <td>PHYS REFERRAL/NORMAL DELI</td>\n",
       "      <td>246512</td>\n",
       "      <td>1.1242</td>\n",
       "      <td>SICU</td>\n",
       "      <td>33</td>\n",
       "      <td>1</td>\n",
       "      <td>...</td>\n",
       "      <td>NaN</td>\n",
       "      <td>NaN</td>\n",
       "      <td>NaN</td>\n",
       "      <td>NaN</td>\n",
       "      <td>NaN</td>\n",
       "      <td>NaN</td>\n",
       "      <td>NaN</td>\n",
       "      <td>NaN</td>\n",
       "      <td>NaN</td>\n",
       "      <td>0</td>\n",
       "    </tr>\n",
       "    <tr>\n",
       "      <th>2239469</th>\n",
       "      <td>99999</td>\n",
       "      <td>64.0247</td>\n",
       "      <td>F</td>\n",
       "      <td>ELECTIVE</td>\n",
       "      <td>PHYS REFERRAL/NORMAL DELI</td>\n",
       "      <td>246512</td>\n",
       "      <td>1.1242</td>\n",
       "      <td>SICU</td>\n",
       "      <td>33</td>\n",
       "      <td>1</td>\n",
       "      <td>...</td>\n",
       "      <td>NaN</td>\n",
       "      <td>NaN</td>\n",
       "      <td>NaN</td>\n",
       "      <td>NaN</td>\n",
       "      <td>NaN</td>\n",
       "      <td>NaN</td>\n",
       "      <td>NaN</td>\n",
       "      <td>NaN</td>\n",
       "      <td>NaN</td>\n",
       "      <td>0</td>\n",
       "    </tr>\n",
       "    <tr>\n",
       "      <th>2239470</th>\n",
       "      <td>99999</td>\n",
       "      <td>64.0247</td>\n",
       "      <td>F</td>\n",
       "      <td>ELECTIVE</td>\n",
       "      <td>PHYS REFERRAL/NORMAL DELI</td>\n",
       "      <td>246512</td>\n",
       "      <td>1.1242</td>\n",
       "      <td>SICU</td>\n",
       "      <td>33</td>\n",
       "      <td>1</td>\n",
       "      <td>...</td>\n",
       "      <td>NaN</td>\n",
       "      <td>NaN</td>\n",
       "      <td>NaN</td>\n",
       "      <td>NaN</td>\n",
       "      <td>NaN</td>\n",
       "      <td>NaN</td>\n",
       "      <td>NaN</td>\n",
       "      <td>NaN</td>\n",
       "      <td>NaN</td>\n",
       "      <td>0</td>\n",
       "    </tr>\n",
       "    <tr>\n",
       "      <th>2239471</th>\n",
       "      <td>99999</td>\n",
       "      <td>64.0247</td>\n",
       "      <td>F</td>\n",
       "      <td>ELECTIVE</td>\n",
       "      <td>PHYS REFERRAL/NORMAL DELI</td>\n",
       "      <td>246512</td>\n",
       "      <td>1.1242</td>\n",
       "      <td>SICU</td>\n",
       "      <td>33</td>\n",
       "      <td>1</td>\n",
       "      <td>...</td>\n",
       "      <td>NaN</td>\n",
       "      <td>NaN</td>\n",
       "      <td>NaN</td>\n",
       "      <td>NaN</td>\n",
       "      <td>NaN</td>\n",
       "      <td>NaN</td>\n",
       "      <td>NaN</td>\n",
       "      <td>NaN</td>\n",
       "      <td>NaN</td>\n",
       "      <td>0</td>\n",
       "    </tr>\n",
       "  </tbody>\n",
       "</table>\n",
       "<p>2239472 rows × 473 columns</p>\n",
       "</div>"
      ]
     },
     "execution_count": 12,
     "metadata": {},
     "output_type": "execute_result"
    }
   ],
   "execution_count": 12
  },
  {
   "metadata": {
    "ExecuteTime": {
     "end_time": "2025-02-27T08:35:16.572204Z",
     "start_time": "2025-02-27T08:35:16.475878Z"
    }
   },
   "cell_type": "code",
   "source": "cohort.data[(cohort.data[\"T\"] >= 47) & (cohort.data[\"AGE\"] >= 18)]",
   "id": "e499f4108f1a29b",
   "outputs": [
    {
     "data": {
      "text/plain": [
       "         SUBJECT_ID      AGE GENDER ADMISSION_TYPE         ADMISSION_LOCATION  \\\n",
       "49                3  76.5753      M      EMERGENCY       EMERGENCY ROOM ADMIT   \n",
       "137               6  65.9836      F       ELECTIVE  PHYS REFERRAL/NORMAL DELI   \n",
       "214               9  41.8164      M      EMERGENCY       EMERGENCY ROOM ADMIT   \n",
       "348              12  72.4219      M       ELECTIVE  PHYS REFERRAL/NORMAL DELI   \n",
       "396              13  39.8904      F      EMERGENCY  TRANSFER FROM HOSP/EXTRAM   \n",
       "...             ...      ...    ...            ...                        ...   \n",
       "2239181       99982  65.3068      M      EMERGENCY  CLINIC REFERRAL/PREMATURE   \n",
       "2239229       99982  65.4192      M      EMERGENCY  TRANSFER FROM HOSP/EXTRAM   \n",
       "2239302       99985  53.8493      M      EMERGENCY       EMERGENCY ROOM ADMIT   \n",
       "2239350       99991  47.7589      M       ELECTIVE  PHYS REFERRAL/NORMAL DELI   \n",
       "2239445       99995  88.7562      F       ELECTIVE  PHYS REFERRAL/NORMAL DELI   \n",
       "\n",
       "         ICUSTAY_ID      LOS FIRST_CAREUNIT  FIRST_WARDID  HADM_to_ICU_time  \\\n",
       "49           211552   6.0646           MICU            12                 0   \n",
       "137          228232   3.6729           SICU            33                 0   \n",
       "214          220597   5.3231           MICU            15                 0   \n",
       "348          232669   7.6348           SICU            23                 1   \n",
       "396          263738   3.6660            CCU            57                 0   \n",
       "...             ...      ...            ...           ...               ...   \n",
       "2239181      275958   4.9427            CCU             7                 1   \n",
       "2239229      239827   6.1701            CCU             7                 0   \n",
       "2239302      279638  11.2998           MICU            52                 2   \n",
       "2239350      226241   3.1426          TSICU            14                 4   \n",
       "2239445      229633   2.1615           CSRU            12                 0   \n",
       "\n",
       "         ... Replete (2/3) (0) Imipenem/Cilastatin (1)  \\\n",
       "49       ...               NaN                     NaN   \n",
       "137      ...               NaN                     NaN   \n",
       "214      ...               NaN                     NaN   \n",
       "348      ...               NaN                     NaN   \n",
       "396      ...               NaN                     NaN   \n",
       "...      ...               ...                     ...   \n",
       "2239181  ...               NaN                     NaN   \n",
       "2239229  ...               NaN                     NaN   \n",
       "2239302  ...               NaN                     NaN   \n",
       "2239350  ...               NaN                     NaN   \n",
       "2239445  ...               NaN                     NaN   \n",
       "\n",
       "        Boost Glucose Control (3/4) (0) Resource Fruit Beverage (0)  \\\n",
       "49                                  NaN                         NaN   \n",
       "137                                 NaN                         NaN   \n",
       "214                                 NaN                         NaN   \n",
       "348                                 NaN                         NaN   \n",
       "396                                 NaN                         NaN   \n",
       "...                                 ...                         ...   \n",
       "2239181                             NaN                         NaN   \n",
       "2239229                             NaN                         NaN   \n",
       "2239302                             NaN                         NaN   \n",
       "2239350                             NaN                         NaN   \n",
       "2239445                             NaN                         NaN   \n",
       "\n",
       "        Mighty Shake (no sugar added) (0) Nutren 2.0 (3/4) (0) Keflex (1)  \\\n",
       "49                                    NaN                  NaN        NaN   \n",
       "137                                   NaN                  NaN        NaN   \n",
       "214                                   NaN                  NaN        NaN   \n",
       "348                                   NaN                  NaN        NaN   \n",
       "396                                   NaN                  NaN        NaN   \n",
       "...                                   ...                  ...        ...   \n",
       "2239181                               NaN                  NaN        NaN   \n",
       "2239229                               NaN                  NaN        NaN   \n",
       "2239302                               NaN                  NaN        NaN   \n",
       "2239350                               NaN                  NaN        NaN   \n",
       "2239445                               NaN                  NaN        NaN   \n",
       "\n",
       "        Quinine (0) Lansoprazole (Prevacid) (1)  label  \n",
       "49              NaN                         NaN      0  \n",
       "137             NaN                         NaN      0  \n",
       "214             NaN                         NaN      1  \n",
       "348             NaN                         NaN      1  \n",
       "396             NaN                         NaN      0  \n",
       "...             ...                         ...    ...  \n",
       "2239181         NaN                         NaN      0  \n",
       "2239229         NaN                         NaN      0  \n",
       "2239302         NaN                         NaN      0  \n",
       "2239350         NaN                         NaN      0  \n",
       "2239445         NaN                         NaN      0  \n",
       "\n",
       "[27091 rows x 473 columns]"
      ],
      "text/html": [
       "<div>\n",
       "<style scoped>\n",
       "    .dataframe tbody tr th:only-of-type {\n",
       "        vertical-align: middle;\n",
       "    }\n",
       "\n",
       "    .dataframe tbody tr th {\n",
       "        vertical-align: top;\n",
       "    }\n",
       "\n",
       "    .dataframe thead th {\n",
       "        text-align: right;\n",
       "    }\n",
       "</style>\n",
       "<table border=\"1\" class=\"dataframe\">\n",
       "  <thead>\n",
       "    <tr style=\"text-align: right;\">\n",
       "      <th></th>\n",
       "      <th>SUBJECT_ID</th>\n",
       "      <th>AGE</th>\n",
       "      <th>GENDER</th>\n",
       "      <th>ADMISSION_TYPE</th>\n",
       "      <th>ADMISSION_LOCATION</th>\n",
       "      <th>ICUSTAY_ID</th>\n",
       "      <th>LOS</th>\n",
       "      <th>FIRST_CAREUNIT</th>\n",
       "      <th>FIRST_WARDID</th>\n",
       "      <th>HADM_to_ICU_time</th>\n",
       "      <th>...</th>\n",
       "      <th>Replete (2/3) (0)</th>\n",
       "      <th>Imipenem/Cilastatin (1)</th>\n",
       "      <th>Boost Glucose Control (3/4) (0)</th>\n",
       "      <th>Resource Fruit Beverage (0)</th>\n",
       "      <th>Mighty Shake (no sugar added) (0)</th>\n",
       "      <th>Nutren 2.0 (3/4) (0)</th>\n",
       "      <th>Keflex (1)</th>\n",
       "      <th>Quinine (0)</th>\n",
       "      <th>Lansoprazole (Prevacid) (1)</th>\n",
       "      <th>label</th>\n",
       "    </tr>\n",
       "  </thead>\n",
       "  <tbody>\n",
       "    <tr>\n",
       "      <th>49</th>\n",
       "      <td>3</td>\n",
       "      <td>76.5753</td>\n",
       "      <td>M</td>\n",
       "      <td>EMERGENCY</td>\n",
       "      <td>EMERGENCY ROOM ADMIT</td>\n",
       "      <td>211552</td>\n",
       "      <td>6.0646</td>\n",
       "      <td>MICU</td>\n",
       "      <td>12</td>\n",
       "      <td>0</td>\n",
       "      <td>...</td>\n",
       "      <td>NaN</td>\n",
       "      <td>NaN</td>\n",
       "      <td>NaN</td>\n",
       "      <td>NaN</td>\n",
       "      <td>NaN</td>\n",
       "      <td>NaN</td>\n",
       "      <td>NaN</td>\n",
       "      <td>NaN</td>\n",
       "      <td>NaN</td>\n",
       "      <td>0</td>\n",
       "    </tr>\n",
       "    <tr>\n",
       "      <th>137</th>\n",
       "      <td>6</td>\n",
       "      <td>65.9836</td>\n",
       "      <td>F</td>\n",
       "      <td>ELECTIVE</td>\n",
       "      <td>PHYS REFERRAL/NORMAL DELI</td>\n",
       "      <td>228232</td>\n",
       "      <td>3.6729</td>\n",
       "      <td>SICU</td>\n",
       "      <td>33</td>\n",
       "      <td>0</td>\n",
       "      <td>...</td>\n",
       "      <td>NaN</td>\n",
       "      <td>NaN</td>\n",
       "      <td>NaN</td>\n",
       "      <td>NaN</td>\n",
       "      <td>NaN</td>\n",
       "      <td>NaN</td>\n",
       "      <td>NaN</td>\n",
       "      <td>NaN</td>\n",
       "      <td>NaN</td>\n",
       "      <td>0</td>\n",
       "    </tr>\n",
       "    <tr>\n",
       "      <th>214</th>\n",
       "      <td>9</td>\n",
       "      <td>41.8164</td>\n",
       "      <td>M</td>\n",
       "      <td>EMERGENCY</td>\n",
       "      <td>EMERGENCY ROOM ADMIT</td>\n",
       "      <td>220597</td>\n",
       "      <td>5.3231</td>\n",
       "      <td>MICU</td>\n",
       "      <td>15</td>\n",
       "      <td>0</td>\n",
       "      <td>...</td>\n",
       "      <td>NaN</td>\n",
       "      <td>NaN</td>\n",
       "      <td>NaN</td>\n",
       "      <td>NaN</td>\n",
       "      <td>NaN</td>\n",
       "      <td>NaN</td>\n",
       "      <td>NaN</td>\n",
       "      <td>NaN</td>\n",
       "      <td>NaN</td>\n",
       "      <td>1</td>\n",
       "    </tr>\n",
       "    <tr>\n",
       "      <th>348</th>\n",
       "      <td>12</td>\n",
       "      <td>72.4219</td>\n",
       "      <td>M</td>\n",
       "      <td>ELECTIVE</td>\n",
       "      <td>PHYS REFERRAL/NORMAL DELI</td>\n",
       "      <td>232669</td>\n",
       "      <td>7.6348</td>\n",
       "      <td>SICU</td>\n",
       "      <td>23</td>\n",
       "      <td>1</td>\n",
       "      <td>...</td>\n",
       "      <td>NaN</td>\n",
       "      <td>NaN</td>\n",
       "      <td>NaN</td>\n",
       "      <td>NaN</td>\n",
       "      <td>NaN</td>\n",
       "      <td>NaN</td>\n",
       "      <td>NaN</td>\n",
       "      <td>NaN</td>\n",
       "      <td>NaN</td>\n",
       "      <td>1</td>\n",
       "    </tr>\n",
       "    <tr>\n",
       "      <th>396</th>\n",
       "      <td>13</td>\n",
       "      <td>39.8904</td>\n",
       "      <td>F</td>\n",
       "      <td>EMERGENCY</td>\n",
       "      <td>TRANSFER FROM HOSP/EXTRAM</td>\n",
       "      <td>263738</td>\n",
       "      <td>3.6660</td>\n",
       "      <td>CCU</td>\n",
       "      <td>57</td>\n",
       "      <td>0</td>\n",
       "      <td>...</td>\n",
       "      <td>NaN</td>\n",
       "      <td>NaN</td>\n",
       "      <td>NaN</td>\n",
       "      <td>NaN</td>\n",
       "      <td>NaN</td>\n",
       "      <td>NaN</td>\n",
       "      <td>NaN</td>\n",
       "      <td>NaN</td>\n",
       "      <td>NaN</td>\n",
       "      <td>0</td>\n",
       "    </tr>\n",
       "    <tr>\n",
       "      <th>...</th>\n",
       "      <td>...</td>\n",
       "      <td>...</td>\n",
       "      <td>...</td>\n",
       "      <td>...</td>\n",
       "      <td>...</td>\n",
       "      <td>...</td>\n",
       "      <td>...</td>\n",
       "      <td>...</td>\n",
       "      <td>...</td>\n",
       "      <td>...</td>\n",
       "      <td>...</td>\n",
       "      <td>...</td>\n",
       "      <td>...</td>\n",
       "      <td>...</td>\n",
       "      <td>...</td>\n",
       "      <td>...</td>\n",
       "      <td>...</td>\n",
       "      <td>...</td>\n",
       "      <td>...</td>\n",
       "      <td>...</td>\n",
       "      <td>...</td>\n",
       "    </tr>\n",
       "    <tr>\n",
       "      <th>2239181</th>\n",
       "      <td>99982</td>\n",
       "      <td>65.3068</td>\n",
       "      <td>M</td>\n",
       "      <td>EMERGENCY</td>\n",
       "      <td>CLINIC REFERRAL/PREMATURE</td>\n",
       "      <td>275958</td>\n",
       "      <td>4.9427</td>\n",
       "      <td>CCU</td>\n",
       "      <td>7</td>\n",
       "      <td>1</td>\n",
       "      <td>...</td>\n",
       "      <td>NaN</td>\n",
       "      <td>NaN</td>\n",
       "      <td>NaN</td>\n",
       "      <td>NaN</td>\n",
       "      <td>NaN</td>\n",
       "      <td>NaN</td>\n",
       "      <td>NaN</td>\n",
       "      <td>NaN</td>\n",
       "      <td>NaN</td>\n",
       "      <td>0</td>\n",
       "    </tr>\n",
       "    <tr>\n",
       "      <th>2239229</th>\n",
       "      <td>99982</td>\n",
       "      <td>65.4192</td>\n",
       "      <td>M</td>\n",
       "      <td>EMERGENCY</td>\n",
       "      <td>TRANSFER FROM HOSP/EXTRAM</td>\n",
       "      <td>239827</td>\n",
       "      <td>6.1701</td>\n",
       "      <td>CCU</td>\n",
       "      <td>7</td>\n",
       "      <td>0</td>\n",
       "      <td>...</td>\n",
       "      <td>NaN</td>\n",
       "      <td>NaN</td>\n",
       "      <td>NaN</td>\n",
       "      <td>NaN</td>\n",
       "      <td>NaN</td>\n",
       "      <td>NaN</td>\n",
       "      <td>NaN</td>\n",
       "      <td>NaN</td>\n",
       "      <td>NaN</td>\n",
       "      <td>0</td>\n",
       "    </tr>\n",
       "    <tr>\n",
       "      <th>2239302</th>\n",
       "      <td>99985</td>\n",
       "      <td>53.8493</td>\n",
       "      <td>M</td>\n",
       "      <td>EMERGENCY</td>\n",
       "      <td>EMERGENCY ROOM ADMIT</td>\n",
       "      <td>279638</td>\n",
       "      <td>11.2998</td>\n",
       "      <td>MICU</td>\n",
       "      <td>52</td>\n",
       "      <td>2</td>\n",
       "      <td>...</td>\n",
       "      <td>NaN</td>\n",
       "      <td>NaN</td>\n",
       "      <td>NaN</td>\n",
       "      <td>NaN</td>\n",
       "      <td>NaN</td>\n",
       "      <td>NaN</td>\n",
       "      <td>NaN</td>\n",
       "      <td>NaN</td>\n",
       "      <td>NaN</td>\n",
       "      <td>0</td>\n",
       "    </tr>\n",
       "    <tr>\n",
       "      <th>2239350</th>\n",
       "      <td>99991</td>\n",
       "      <td>47.7589</td>\n",
       "      <td>M</td>\n",
       "      <td>ELECTIVE</td>\n",
       "      <td>PHYS REFERRAL/NORMAL DELI</td>\n",
       "      <td>226241</td>\n",
       "      <td>3.1426</td>\n",
       "      <td>TSICU</td>\n",
       "      <td>14</td>\n",
       "      <td>4</td>\n",
       "      <td>...</td>\n",
       "      <td>NaN</td>\n",
       "      <td>NaN</td>\n",
       "      <td>NaN</td>\n",
       "      <td>NaN</td>\n",
       "      <td>NaN</td>\n",
       "      <td>NaN</td>\n",
       "      <td>NaN</td>\n",
       "      <td>NaN</td>\n",
       "      <td>NaN</td>\n",
       "      <td>0</td>\n",
       "    </tr>\n",
       "    <tr>\n",
       "      <th>2239445</th>\n",
       "      <td>99995</td>\n",
       "      <td>88.7562</td>\n",
       "      <td>F</td>\n",
       "      <td>ELECTIVE</td>\n",
       "      <td>PHYS REFERRAL/NORMAL DELI</td>\n",
       "      <td>229633</td>\n",
       "      <td>2.1615</td>\n",
       "      <td>CSRU</td>\n",
       "      <td>12</td>\n",
       "      <td>0</td>\n",
       "      <td>...</td>\n",
       "      <td>NaN</td>\n",
       "      <td>NaN</td>\n",
       "      <td>NaN</td>\n",
       "      <td>NaN</td>\n",
       "      <td>NaN</td>\n",
       "      <td>NaN</td>\n",
       "      <td>NaN</td>\n",
       "      <td>NaN</td>\n",
       "      <td>NaN</td>\n",
       "      <td>0</td>\n",
       "    </tr>\n",
       "  </tbody>\n",
       "</table>\n",
       "<p>27091 rows × 473 columns</p>\n",
       "</div>"
      ]
     },
     "execution_count": 14,
     "metadata": {},
     "output_type": "execute_result"
    }
   ],
   "execution_count": 14
  },
  {
   "metadata": {
    "ExecuteTime": {
     "end_time": "2025-02-25T01:50:04.816548Z",
     "start_time": "2025-02-25T01:50:04.807569Z"
    }
   },
   "cell_type": "code",
   "source": [
    "id = 200001\n",
    "patients_static.patients_T_info[patients_static.patients_T_info[\"ICUSTAY_ID\"] == id][\"T\"].max(), \\\n",
    "    chartevents.data[chartevents.data[\"ICUSTAY_ID\"] == id][\"T\"].max(), \\\n",
    "    inputevents_mv.data[inputevents_mv.data[\"ICUSTAY_ID\"] == id][\"T\"].max(), \\\n",
    "    outputevents.data[outputevents.data[\"ICUSTAY_ID\"] == id][\"T\"].max()"
   ],
   "id": "20a64bac10d8cb6a",
   "outputs": [
    {
     "data": {
      "text/plain": [
       "(47, 45.0, 44, 26)"
      ]
     },
     "execution_count": 5,
     "metadata": {},
     "output_type": "execute_result"
    }
   ],
   "execution_count": 5
  },
  {
   "metadata": {},
   "cell_type": "code",
   "source": [
    "target = inputevents_mv.data\n",
    "target[target[\"ICUSTAY_ID\"] == 200001]"
   ],
   "id": "293843500499ecbf",
   "outputs": [],
   "execution_count": null
  },
  {
   "metadata": {
    "ExecuteTime": {
     "end_time": "2025-02-24T04:27:57.966508Z",
     "start_time": "2025-02-24T04:27:55.671382Z"
    }
   },
   "cell_type": "code",
   "source": [
    "import matplotlib.pyplot as plt\n",
    "\n",
    "missing_percentage = cohort.data.groupby(\"ICUSTAY_ID\").mean().isnull().mean() * 100\n",
    "\n",
    "missing_percentage.plot(kind=\"bar\")\n",
    "plt.show()"
   ],
   "id": "f7aa78bf69aafaf6",
   "outputs": [
    {
     "data": {
      "text/plain": [
       "<Figure size 640x480 with 1 Axes>"
      ],
      "image/png": "[encoded data removed]"
     },
     "metadata": {},
     "output_type": "display_data"
    }
   ],
   "execution_count": 19
  },
  {
   "metadata": {},
   "cell_type": "markdown",
   "source": "# Machine Learning Task",
   "id": "8a63e75b2d795928"
  },
  {
   "metadata": {
    "ExecuteTime": {
     "end_time": "2025-02-25T14:24:20.659531Z",
     "start_time": "2025-02-25T14:24:18.539996Z"
    }
   },
   "cell_type": "code",
   "source": [
    "import pandas as pd\n",
    "from sklearn.model_selection import train_test_split\n",
    "from sklearn.ensemble import RandomForestClassifier\n",
    "from sklearn.metrics import roc_auc_score\n",
    "from imblearn.under_sampling import RandomUnderSampler\n",
    "\n",
    "rus = RandomUnderSampler(random_state=42)\n",
    "features, label = rus.fit_resample(features, label)\n",
    "x_train, x_test, y_train, y_test = train_test_split(features, label, test_size=0.2, random_state=42, stratify=label)\n",
    "\n",
    "model = RandomForestClassifier(n_estimators=100, random_state=42, class_weight='balanced')\n",
    "model.fit(x_train, y_train)\n",
    "\n",
    "y_pred = model.predict_proba(x_test)[:, 1]\n",
    "\n",
    "roc_auc_score(y_test, y_pred)"
   ],
   "id": "e14022a6e40344b6",
   "outputs": [
    {
     "data": {
      "text/plain": [
       "0.9048288627711768"
      ]
     },
     "execution_count": 17,
     "metadata": {},
     "output_type": "execute_result"
    }
   ],
   "execution_count": 17
  },
  {
   "metadata": {
    "ExecuteTime": {
     "end_time": "2025-02-25T14:24:20.682617Z",
     "start_time": "2025-02-25T14:24:20.680404Z"
    }
   },
   "cell_type": "code",
   "source": "label.value_counts()",
   "id": "3efb8a8c6e061bcd",
   "outputs": [
    {
     "data": {
      "text/plain": [
       "label\n",
       "0.0    6535\n",
       "1.0    6535\n",
       "Name: count, dtype: int64"
      ]
     },
     "execution_count": 18,
     "metadata": {},
     "output_type": "execute_result"
    }
   ],
   "execution_count": 18
  },
  {
   "metadata": {
    "ExecuteTime": {
     "end_time": "2025-02-25T14:24:20.731275Z",
     "start_time": "2025-02-25T14:24:20.729267Z"
    }
   },
   "cell_type": "code",
   "source": "y_test.value_counts()",
   "id": "2038fa601e5da57f",
   "outputs": [
    {
     "data": {
      "text/plain": [
       "label\n",
       "0.0    1307\n",
       "1.0    1307\n",
       "Name: count, dtype: int64"
      ]
     },
     "execution_count": 19,
     "metadata": {},
     "output_type": "execute_result"
    }
   ],
   "execution_count": 19
  },
  {
   "metadata": {
    "ExecuteTime": {
     "end_time": "2025-02-25T14:37:33.513638Z",
     "start_time": "2025-02-25T14:37:33.510787Z"
    }
   },
   "cell_type": "code",
   "source": "\"PO Intake (0)\" in inputevents_mv.data.columns",
   "id": "54c09c201af75fa4",
   "outputs": [
    {
     "data": {
      "text/plain": [
       "True"
      ]
     },
     "execution_count": 24,
     "metadata": {},
     "output_type": "execute_result"
    }
   ],
   "execution_count": 24
  },
  {
   "metadata": {
    "ExecuteTime": {
     "end_time": "2025-02-25T14:24:32.214011Z",
     "start_time": "2025-02-25T14:24:32.142845Z"
    }
   },
   "cell_type": "code",
   "source": [
    "import matplotlib.pyplot as plt\n",
    "\n",
    "# 피처 중요도 추출\n",
    "feature_importances = model.feature_importances_\n",
    "\n",
    "# 피처 중요도를 데이터프레임으로 변환\n",
    "feature_importance_df = pd.DataFrame({\n",
    "    'Feature': features.columns,\n",
    "    'Importance': feature_importances\n",
    "})\n",
    "\n",
    "# 피처 중요도 정렬\n",
    "feature_importance_df = feature_importance_df.sort_values(by='Importance', ascending=False)\n",
    "\n",
    "# 상위 10개 피처 선택\n",
    "top_10_features = feature_importance_df.head(15)\n",
    "\n",
    "# 피처 중요도 시각화\n",
    "plt.figure(figsize=(10, 6))\n",
    "plt.barh(top_10_features['Feature'], top_10_features['Importance'])\n",
    "plt.xlabel('Importance')\n",
    "plt.ylabel('Feature')\n",
    "plt.title('Top 10 Feature Importance')\n",
    "plt.gca().invert_yaxis()  # 중요도가 높은 피처가 위로 오도록 정렬\n",
    "plt.show()"
   ],
   "id": "377fc7d9f6e7e194",
   "outputs": [
    {
     "data": {
      "text/plain": [
       "<Figure size 1000x600 with 1 Axes>"
      ],
      "image/png": "[encoded data removed]"
     },
     "metadata": {},
     "output_type": "display_data"
    }
   ],
   "execution_count": 21
  }
 ],
 "metadata": {
  "kernelspec": {
   "display_name": "Python 3",
   "language": "python",
   "name": "python3"
  },
  "language_info": {
   "codemirror_mode": {
    "name": "ipython",
    "version": 2
   },
   "file_extension": ".py",
   "mimetype": "text/x-python",
   "name": "python",
   "nbconvert_exporter": "python",
   "pygments_lexer": "ipython2",
   "version": "2.7.6"
  }
 },
 "nbformat": 4,
 "nbformat_minor": 5
}
