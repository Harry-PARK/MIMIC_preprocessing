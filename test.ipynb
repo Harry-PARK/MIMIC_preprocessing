{
 "cells": [
  {
   "cell_type": "code",
   "id": "initial_id",
   "metadata": {
    "collapsed": true,
    "ExecuteTime": {
     "end_time": "2025-02-20T14:38:13.599302Z",
     "start_time": "2025-02-20T14:38:13.291228Z"
    }
   },
   "source": [
    "import os\n",
    "import pandas as pd\n",
    "from openpyxl.styles.builtins import output\n",
    "from sipbuild.generator.outputs import output_api\n",
    "from sqlalchemy import create_engine\n",
    "from sympy.physics.units import katal\n",
    "\n",
    "import openmimic as om\n",
    "\n",
    "# MySQL 데이터베이스 연결 정보\n",
    "username = 'root'\n",
    "password = os.getenv('AIMED_PW')\n",
    "host = '172.28.8.103'\n",
    "port = '3306'  # 예: '3306'\n",
    "database = \"MIMIC_III\"\n",
    "db_engine = create_engine(f'mysql+pymysql://{username}:{password}@{host}:{port}/{database}')\n",
    "\n",
    "# om configuration\n",
    "om.Config.mimic_path = \"../mimic3_csv/\"\n",
    "processed_data_path = \"./processed_data/\""
   ],
   "outputs": [],
   "execution_count": 1
  },
  {
   "metadata": {
    "ExecuteTime": {
     "end_time": "2025-02-20T14:18:14.201050Z",
     "start_time": "2025-02-20T14:18:14.193481Z"
    }
   },
   "cell_type": "code",
   "source": [
    "import importlib\n",
    "\n",
    "def reload_all():\n",
    "    importlib.reload(om)\n",
    "    importlib.reload(om.chartevents)\n",
    "    importlib.reload(om.chartevents_engineering)\n",
    "    # importlib.reload(om.cohort)\n",
    "    importlib.reload(om.config)\n",
    "    importlib.reload(om.utils)\n",
    "    importlib.reload(om.inputevents_mv)\n",
    "    importlib.reload(om.inputevents_mv_engineering)\n",
    "    importlib.reload(om.mimic_preprocessor)\n",
    "    importlib.reload(om.patient_static)\n",
    "    importlib.reload(om.patient_static_engineering)\n",
    "    importlib.reload(om.outputevents)\n",
    "    importlib.reload(om.outputevents_engineering)\n",
    "\n",
    "reload_all()"
   ],
   "id": "f39323276728d6ab",
   "outputs": [],
   "execution_count": 9
  },
  {
   "metadata": {},
   "cell_type": "markdown",
   "source": "# Patient_static",
   "id": "676478e0ed58adf5"
  },
  {
   "metadata": {
    "ExecuteTime": {
     "end_time": "2025-02-20T14:38:28.520572Z",
     "start_time": "2025-02-20T14:38:14.442921Z"
    }
   },
   "cell_type": "code",
   "source": [
    "# query = \"SELECT * FROM patient_static\"\n",
    "# patients_all = pd.read_sql(query, db_engine)\n",
    "patients_static_csv = pd.read_csv(processed_data_path+\"patients_static.csv\")\n",
    "patients_static_T_info_csv = pd.read_csv(processed_data_path+\"patients_static_T_info.csv\")\n",
    "\n",
    "patients_static = om.PatientStatic()\n",
    "patients_static.load_processed(patients_static_csv, patients_static_T_info_csv)\n",
    "# patients_static.load(patients_all)\n",
    "# patients_static.patients_T_info"
   ],
   "id": "d5b4fab6f9c9bb",
   "outputs": [
    {
     "data": {
      "text/plain": [
       "<openmimic.patient_static.PatientStatic at 0x7f1d5a39cbf0>"
      ]
     },
     "execution_count": 2,
     "metadata": {},
     "output_type": "execute_result"
    }
   ],
   "execution_count": 2
  },
  {
   "metadata": {},
   "cell_type": "markdown",
   "source": "# Chartevents",
   "id": "b1d870334b17e713"
  },
  {
   "metadata": {
    "ExecuteTime": {
     "end_time": "2025-02-10T07:22:47.134095Z",
     "start_time": "2025-02-10T07:10:03.112590Z"
    }
   },
   "cell_type": "code",
   "source": [
    "chartevents_items = (769, 220644, 772, 1521, 227456, 773, 225612, 227073, 770, 220587, 227443, 848, 225690, 1538, 225651, 803, 781, 1162, 225624, 225625, 786, 1522, 816, 225667, 116, 89, 90, 220074, 113, 220602, 226536, 1523, 788, 789, 1524, 220603, 787, 857, 225698, 777, 223679, 791, 1525, 220615, 224643, 225310, 220180, 8555, 220051, 8368, 8441, 8440, 227468, 1528, 806, 189, 727, 223835, 190, 198, 220621, 225664, 811, 807, 226537, 1529, 211, 220045, 226707, 226730, 1394, 813, 220545, 220228, 814, 818, 225668, 1531, 220635, 1532, 821, 456, 220181, 224, 225312, 220052, 52, 6702, 224322, 646, 834, 220277, 220227, 226062, 778, 220235, 779, 227466, 825, 1533, 535, 224695, 860, 223830, 1126, 780, 220274, 1534, 225677, 827, 224696, 543, 828, 227457, 224700, 506, 220339, 512, 829, 1535, 227464, 227442, 227467, 1530, 815, 1286, 824, 227465, 491, 492, 220059, 504, 833, 224422, 618, 220210, 224689, 614, 651, 224690, 615, 224688, 619, 837, 1536, 220645, 226534, 626, 442, 227243, 224167, 220179, 225309, 6701, 220050, 51, 455, 223761, 677, 676, 679, 678, 223762, 224685, 682, 224684, 683, 684, 224686, 1539, 849, 851, 227429, 859, 226531, 763, 224639, 226512, 861, 1542, 220546, 1127 )\n",
    "query = f\"SELECT * FROM CHARTEVENTS WHERE ITEMID IN {chartevents_items} ORDER BY CHARTTIME;\"\n",
    "chartevents_raw = pd.read_sql(query, db_engine)"
   ],
   "id": "ce9b4e22edb9732d",
   "outputs": [],
   "execution_count": 12
  },
  {
   "metadata": {
    "ExecuteTime": {
     "end_time": "2025-02-20T13:46:06.938357Z",
     "start_time": "2025-02-20T13:45:22.959313Z"
    }
   },
   "cell_type": "code",
   "source": [
    "chartevents_raw = pd.read_csv(processed_data_path+\"raw_chartevents.csv\")\n",
    "chartevents_raw[\"CHARTTIME\"] = pd.to_datetime(chartevents_raw[\"CHARTTIME\"])\n",
    "chartevents_raw[\"ICUSTAY_ID\"].unique()"
   ],
   "id": "7418827dda496e99",
   "outputs": [
    {
     "name": "stderr",
     "output_type": "stream",
     "text": [
      "/tmp/ipykernel_865241/4172286038.py:1: DtypeWarning: Columns (8,13,14) have mixed types. Specify dtype option on import or set low_memory=False.\n",
      "  chartevents_raw = pd.read_csv(processed_data_path+\"raw_chartevents.csv\")\n"
     ]
    },
    {
     "data": {
      "text/plain": [
       "array([202134., 293407., 222148., ..., 252411., 202836., 234115.])"
      ]
     },
     "execution_count": 3,
     "metadata": {},
     "output_type": "execute_result"
    }
   ],
   "execution_count": 3
  },
  {
   "metadata": {
    "ExecuteTime": {
     "end_time": "2025-02-20T13:54:21.221933Z",
     "start_time": "2025-02-20T13:46:12.201769Z"
    }
   },
   "cell_type": "code",
   "source": [
    "chartevents2 = om.Chartevents()\n",
    "chartevents2.load(chartevents_raw, patients_static.patients_T_info)\n",
    "chartevents2.process()"
   ],
   "id": "797b189a07503649",
   "outputs": [
    {
     "name": "stdout",
     "output_type": "stream",
     "text": [
      "../mimic3_csv/\n",
      "Chartevents data updated!\n",
      "-----------------------------------\n",
      "Filtering...\n",
      "-> filter_remove_unassociated_columns...\t Complete!\t1.20s\n",
      "-> filter_remove_no_ICUSTAY_ID...\t Complete!\t2.33s\n",
      "-> filter_remove_error...\t Complete!\t1.82s\n",
      "-> filter_remove_labitems...\t../mimic3_csv/\n",
      " Complete!\t1.25s\n",
      "Chartevents data updated!\n",
      "=> Before: 66,635,422, After: 66,534,355 : 99.85% remained.\n",
      "Filtering Complete!\n",
      "-----------------------------------\n",
      "Processing...\n",
      "-> process_group_variables_from_fiddle...\t Complete!\t20.60s\n",
      "Chartevents data updated!\n",
      "-> process_aggregator...\t Complete!\t6m 25.68s\n",
      "-> process_interval_shift_alignment...\t Complete!\t4.50s\n",
      "Processing Complete!\n"
     ]
    }
   ],
   "execution_count": 4
  },
  {
   "metadata": {},
   "cell_type": "markdown",
   "source": "# Inputevents_MV",
   "id": "5c0e668a0634a23c"
  },
  {
   "metadata": {
    "ExecuteTime": {
     "end_time": "2025-02-20T14:39:30.759779Z",
     "start_time": "2025-02-20T14:38:32.595690Z"
    }
   },
   "cell_type": "code",
   "source": [
    "columns = \"ROW_ID, ICUSTAY_ID, STARTTIME, ENDTIME, ITEMID, AMOUNT, AMOUNTUOM, RATE, RATEUOM, PATIENTWEIGHT\"\n",
    "columns = \"*\"\n",
    "query = f\"SELECT {columns} FROM INPUTEVENTS_MV\"\n",
    "inputevents_mv_raw = pd.read_sql(query, db_engine)"
   ],
   "id": "a1352317e26badc0",
   "outputs": [],
   "execution_count": 4
  },
  {
   "metadata": {
    "ExecuteTime": {
     "end_time": "2025-02-20T14:43:56.454448Z",
     "start_time": "2025-02-20T14:39:30.766613Z"
    }
   },
   "cell_type": "code",
   "source": [
    "inputevents_mv = om.InputeventsMV()\n",
    "inputevents_mv.load(inputevents_mv_raw, patients_static.patients_T_info)\n",
    "inputevents_mv.process()"
   ],
   "id": "870ba5890b59a6d1",
   "outputs": [
    {
     "name": "stdout",
     "output_type": "stream",
     "text": [
      "-----------------------------------\n",
      "Filtering...\n",
      "-> filter_remove_unassociated_columns...\t Complete!\t0.26s\n",
      "-> filter_remove_no_ICUSTAY_ID...\t Complete!\t0.34s\n",
      "-> filter_remove_error...\t Complete!\t0.63s\n",
      "-> filter_remove_zero_input...\t Complete!\t0.58s\n",
      "-> filter_remove_continuous_uom_missing...\t Complete!\t0.69s\n",
      "=> Before: 3,618,991, After: 2,535,497 : 70.06% remained.\n",
      "Filtering Complete!\n",
      "-----------------------------------\n",
      "Processing...\n",
      "-> process_rateuom_into_hour_unit...\t Complete!\t3.02s\n",
      "-> process_unite_convertable_uom_by_D_ITEMS...\t Complete!\t4.57s\n",
      "-> process_split_ITEMID_by_unit...\t Complete!\t3.49s\n",
      "-> process_transform_T_cohort...\t Complete!\t4m 8.95s\n",
      "Processing Complete!\n"
     ]
    }
   ],
   "execution_count": 5
  },
  {
   "metadata": {},
   "cell_type": "markdown",
   "source": "# Outputevents",
   "id": "71c81794df08685c"
  },
  {
   "metadata": {
    "ExecuteTime": {
     "end_time": "2025-02-20T14:51:59.757319Z",
     "start_time": "2025-02-20T14:51:21.528568Z"
    }
   },
   "cell_type": "code",
   "source": [
    "columns = \"*\"\n",
    "query = f\"SELECT {columns} FROM OUTPUTEVENTS\"\n",
    "outputevents_raw = pd.read_sql(query, db_engine)"
   ],
   "id": "72e183c92e0cad16",
   "outputs": [],
   "execution_count": 10
  },
  {
   "metadata": {
    "ExecuteTime": {
     "end_time": "2025-02-20T14:48:45.581170Z",
     "start_time": "2025-02-20T14:48:40.036369Z"
    }
   },
   "cell_type": "code",
   "source": [
    "outputevents = om.Outputevents()\n",
    "outputevents.load(outputevents_raw, patients_static.patients_T_info)\n",
    "outputevents.process()"
   ],
   "id": "5e69ee72869bc146",
   "outputs": [
    {
     "name": "stdout",
     "output_type": "stream",
     "text": [
      "-----------------------------------\n",
      "Filtering...\n",
      "-> filter_remove_unassociated_columns...\t Complete!\t0.00s\n",
      "-> filter_remove_no_ICUSTAY_ID...\t Complete!\t0.00s\n",
      "-> filter_remove_error...\t Complete!\t0.00s\n",
      "-> filter_remove_zero_output...\t Complete!\t0.00s\n",
      "Outputevents data updated!\n",
      "Filtering Complete!\n",
      "=> Before: 100,000, After: 93,308 : 93.31% remained.\n",
      "-----------------------------------\n",
      "Processing...\n",
      "-> process_aggregator...\t Complete!\t5.37s\n",
      "-> process_interval_shift_alignment...\t Complete!\t0.09s\n",
      "Processing Complete!\n"
     ]
    }
   ],
   "execution_count": 8
  },
  {
   "metadata": {},
   "cell_type": "markdown",
   "source": "# Cohort Integration\n",
   "id": "fbfd6354098622e"
  },
  {
   "metadata": {
    "ExecuteTime": {
     "end_time": "2025-02-20T05:32:59.613620Z",
     "start_time": "2025-02-20T05:32:53.149416Z"
    }
   },
   "cell_type": "code",
   "source": [
    "chartevents = pd.read_csv(processed_data_path+\"chartevents2.csv\")\n",
    "inputevents_mv = pd.read_csv(processed_data_path+\"inputevents_mv.csv\")\n",
    "\n",
    "\n",
    "chartevents = om.Chartevents().load_processed(chartevents)\n",
    "inputevents_mv = om.InputeventsMV().load_processed(inputevents_mv)"
   ],
   "id": "6afe6dd3d09625c0",
   "outputs": [
    {
     "name": "stdout",
     "output_type": "stream",
     "text": [
      "../mimic3_csv/\n",
      "../mimic3_csv/\n"
     ]
    }
   ],
   "execution_count": 8
  },
  {
   "metadata": {
    "ExecuteTime": {
     "end_time": "2025-02-20T05:33:23.261815Z",
     "start_time": "2025-02-20T05:33:15.760192Z"
    }
   },
   "cell_type": "code",
   "source": [
    "class Cohort:\n",
    "    def __init__(self, patients_static=None, chartevents=None, inputevents_mv=None, outputevents=None, cohort=None):\n",
    "        self.patients_static = patients_static\n",
    "        self.chartevents = chartevents\n",
    "        self.inputevents_mv = inputevents_mv\n",
    "        self.outputevents = outputevents\n",
    "        self.cohort_present = False\n",
    "        self.data = None\n",
    "        if isinstance(cohort, pd.DataFrame):\n",
    "            self.data = cohort\n",
    "            self.cohort_present = True\n",
    "\n",
    "\n",
    "    def make_cohort(self):\n",
    "        if self.cohort_present:\n",
    "            return self.data\n",
    "        merged_table = []\n",
    "        self.cnvrt_column()\n",
    "        self.data = self.patients_static.data\n",
    "        merged_table.append(\"patients_static\")\n",
    "        if isinstance(self.chartevents, om.Chartevents):\n",
    "            merged_table.append(\"chartevents\")\n",
    "            self.data = self.data.merge(self.chartevents.data, on=\"ICUSTAY_ID\", how=\"left\")\n",
    "        if isinstance(self.inputevents_mv, om.InputeventsMV):\n",
    "            merged_table.append(\"inputevents_mv\")\n",
    "            self.data = self.data.merge(self.inputevents_mv.data, on=[\"ICUSTAY_ID\", \"T\"], how=\"left\")\n",
    "        if isinstance(self.outputevents, om.Outputevents):\n",
    "            merged_table.append(\"outputevents\")\n",
    "            self.data = self.data.merge(self.outputevents.data, on=[\"ICUSTAY_ID\", \"T\"], how=\"left\")\n",
    "        self.cohort_present = True\n",
    "        print(f\"Tables merged: {merged_table}\")\n",
    "        return self.data\n",
    "\n",
    "\n",
    "    def cnvrt_column(self):\n",
    "        if isinstance(self.chartevents, om.Chartevents):\n",
    "            self.chartevents.cnvrt_column()\n",
    "        if isinstance(self.inputevents_mv, om.InputeventsMV):\n",
    "            self.inputevents_mv.cnvrt_column()\n",
    "\n",
    "\n",
    "cohort = Cohort(patients_static, chartevents, inputevents_mv)\n",
    "cohort.make_cohort()\n",
    "cohort.data.sort_values(by=[\"ICUSTAY_ID\", \"T\"])"
   ],
   "id": "e941c78f145f783a",
   "outputs": [
    {
     "data": {
      "text/plain": [
       "         SUBJECT_ID      AGE GENDER ADMISSION_TYPE         ADMISSION_LOCATION  \\\n",
       "1680923       55973  61.1096      F      EMERGENCY  CLINIC REFERRAL/PREMATURE   \n",
       "1680924       55973  61.1096      F      EMERGENCY  CLINIC REFERRAL/PREMATURE   \n",
       "1680925       55973  61.1096      F      EMERGENCY  CLINIC REFERRAL/PREMATURE   \n",
       "1680926       55973  61.1096      F      EMERGENCY  CLINIC REFERRAL/PREMATURE   \n",
       "1680927       55973  61.1096      F      EMERGENCY  CLINIC REFERRAL/PREMATURE   \n",
       "...             ...      ...    ...            ...                        ...   \n",
       "347284         7630  48.7644      M       ELECTIVE  PHYS REFERRAL/NORMAL DELI   \n",
       "347285         7630  48.7644      M       ELECTIVE  PHYS REFERRAL/NORMAL DELI   \n",
       "347286         7630  48.7644      M       ELECTIVE  PHYS REFERRAL/NORMAL DELI   \n",
       "347287         7630  48.7644      M       ELECTIVE  PHYS REFERRAL/NORMAL DELI   \n",
       "347288         7630  48.7644      M       ELECTIVE  PHYS REFERRAL/NORMAL DELI   \n",
       "\n",
       "         ICUSTAY_ID     LOS FIRST_CAREUNIT  FIRST_WARDID  HADM_to_ICU_time  \\\n",
       "1680923      200001  3.0786           MICU            23                 7   \n",
       "1680924      200001  3.0786           MICU            23                 7   \n",
       "1680925      200001  3.0786           MICU            23                 7   \n",
       "1680926      200001  3.0786           MICU            23                 7   \n",
       "1680927      200001  3.0786           MICU            23                 7   \n",
       "...             ...     ...            ...           ...               ...   \n",
       "347284       299999  1.2978           CSRU            14                 0   \n",
       "347285       299999  1.2978           CSRU            14                 0   \n",
       "347286       299999  1.2978           CSRU            14                 0   \n",
       "347287       299999  1.2978           CSRU            14                 0   \n",
       "347288       299999  1.2978           CSRU            14                 0   \n",
       "\n",
       "         ... Replete (3/4) #0 Replete (2/3) #0 Imipenem/Cilastatin #1  \\\n",
       "1680923  ...              NaN              NaN                    NaN   \n",
       "1680924  ...              NaN              NaN                    NaN   \n",
       "1680925  ...              NaN              NaN                    NaN   \n",
       "1680926  ...              NaN              NaN                    NaN   \n",
       "1680927  ...              NaN              NaN                    NaN   \n",
       "...      ...              ...              ...                    ...   \n",
       "347284   ...              NaN              NaN                    NaN   \n",
       "347285   ...              NaN              NaN                    NaN   \n",
       "347286   ...              NaN              NaN                    NaN   \n",
       "347287   ...              NaN              NaN                    NaN   \n",
       "347288   ...              NaN              NaN                    NaN   \n",
       "\n",
       "        Boost Glucose Control (3/4) #0 Resource Fruit Beverage #0  \\\n",
       "1680923                            NaN                        NaN   \n",
       "1680924                            NaN                        NaN   \n",
       "1680925                            NaN                        NaN   \n",
       "1680926                            NaN                        NaN   \n",
       "1680927                            NaN                        NaN   \n",
       "...                                ...                        ...   \n",
       "347284                             NaN                        NaN   \n",
       "347285                             NaN                        NaN   \n",
       "347286                             NaN                        NaN   \n",
       "347287                             NaN                        NaN   \n",
       "347288                             NaN                        NaN   \n",
       "\n",
       "        Mighty Shake (no sugar added) #0 Nutren 2.0 (3/4) #0 Keflex #1  \\\n",
       "1680923                              NaN                 NaN       NaN   \n",
       "1680924                              NaN                 NaN       NaN   \n",
       "1680925                              NaN                 NaN       NaN   \n",
       "1680926                              NaN                 NaN       NaN   \n",
       "1680927                              NaN                 NaN       NaN   \n",
       "...                                  ...                 ...       ...   \n",
       "347284                               NaN                 NaN       NaN   \n",
       "347285                               NaN                 NaN       NaN   \n",
       "347286                               NaN                 NaN       NaN   \n",
       "347287                               NaN                 NaN       NaN   \n",
       "347288                               NaN                 NaN       NaN   \n",
       "\n",
       "        Quinine #0  Lansoprazole (Prevacid) #1  \n",
       "1680923        NaN                         NaN  \n",
       "1680924        NaN                         NaN  \n",
       "1680925        NaN                         NaN  \n",
       "1680926        NaN                         NaN  \n",
       "1680927        NaN                         NaN  \n",
       "...            ...                         ...  \n",
       "347284         NaN                         NaN  \n",
       "347285         NaN                         NaN  \n",
       "347286         NaN                         NaN  \n",
       "347287         NaN                         NaN  \n",
       "347288         NaN                         NaN  \n",
       "\n",
       "[2239472 rows x 472 columns]"
      ],
      "text/html": [
       "<div>\n",
       "<style scoped>\n",
       "    .dataframe tbody tr th:only-of-type {\n",
       "        vertical-align: middle;\n",
       "    }\n",
       "\n",
       "    .dataframe tbody tr th {\n",
       "        vertical-align: top;\n",
       "    }\n",
       "\n",
       "    .dataframe thead th {\n",
       "        text-align: right;\n",
       "    }\n",
       "</style>\n",
       "<table border=\"1\" class=\"dataframe\">\n",
       "  <thead>\n",
       "    <tr style=\"text-align: right;\">\n",
       "      <th></th>\n",
       "      <th>SUBJECT_ID</th>\n",
       "      <th>AGE</th>\n",
       "      <th>GENDER</th>\n",
       "      <th>ADMISSION_TYPE</th>\n",
       "      <th>ADMISSION_LOCATION</th>\n",
       "      <th>ICUSTAY_ID</th>\n",
       "      <th>LOS</th>\n",
       "      <th>FIRST_CAREUNIT</th>\n",
       "      <th>FIRST_WARDID</th>\n",
       "      <th>HADM_to_ICU_time</th>\n",
       "      <th>...</th>\n",
       "      <th>Replete (3/4) #0</th>\n",
       "      <th>Replete (2/3) #0</th>\n",
       "      <th>Imipenem/Cilastatin #1</th>\n",
       "      <th>Boost Glucose Control (3/4) #0</th>\n",
       "      <th>Resource Fruit Beverage #0</th>\n",
       "      <th>Mighty Shake (no sugar added) #0</th>\n",
       "      <th>Nutren 2.0 (3/4) #0</th>\n",
       "      <th>Keflex #1</th>\n",
       "      <th>Quinine #0</th>\n",
       "      <th>Lansoprazole (Prevacid) #1</th>\n",
       "    </tr>\n",
       "  </thead>\n",
       "  <tbody>\n",
       "    <tr>\n",
       "      <th>1680923</th>\n",
       "      <td>55973</td>\n",
       "      <td>61.1096</td>\n",
       "      <td>F</td>\n",
       "      <td>EMERGENCY</td>\n",
       "      <td>CLINIC REFERRAL/PREMATURE</td>\n",
       "      <td>200001</td>\n",
       "      <td>3.0786</td>\n",
       "      <td>MICU</td>\n",
       "      <td>23</td>\n",
       "      <td>7</td>\n",
       "      <td>...</td>\n",
       "      <td>NaN</td>\n",
       "      <td>NaN</td>\n",
       "      <td>NaN</td>\n",
       "      <td>NaN</td>\n",
       "      <td>NaN</td>\n",
       "      <td>NaN</td>\n",
       "      <td>NaN</td>\n",
       "      <td>NaN</td>\n",
       "      <td>NaN</td>\n",
       "      <td>NaN</td>\n",
       "    </tr>\n",
       "    <tr>\n",
       "      <th>1680924</th>\n",
       "      <td>55973</td>\n",
       "      <td>61.1096</td>\n",
       "      <td>F</td>\n",
       "      <td>EMERGENCY</td>\n",
       "      <td>CLINIC REFERRAL/PREMATURE</td>\n",
       "      <td>200001</td>\n",
       "      <td>3.0786</td>\n",
       "      <td>MICU</td>\n",
       "      <td>23</td>\n",
       "      <td>7</td>\n",
       "      <td>...</td>\n",
       "      <td>NaN</td>\n",
       "      <td>NaN</td>\n",
       "      <td>NaN</td>\n",
       "      <td>NaN</td>\n",
       "      <td>NaN</td>\n",
       "      <td>NaN</td>\n",
       "      <td>NaN</td>\n",
       "      <td>NaN</td>\n",
       "      <td>NaN</td>\n",
       "      <td>NaN</td>\n",
       "    </tr>\n",
       "    <tr>\n",
       "      <th>1680925</th>\n",
       "      <td>55973</td>\n",
       "      <td>61.1096</td>\n",
       "      <td>F</td>\n",
       "      <td>EMERGENCY</td>\n",
       "      <td>CLINIC REFERRAL/PREMATURE</td>\n",
       "      <td>200001</td>\n",
       "      <td>3.0786</td>\n",
       "      <td>MICU</td>\n",
       "      <td>23</td>\n",
       "      <td>7</td>\n",
       "      <td>...</td>\n",
       "      <td>NaN</td>\n",
       "      <td>NaN</td>\n",
       "      <td>NaN</td>\n",
       "      <td>NaN</td>\n",
       "      <td>NaN</td>\n",
       "      <td>NaN</td>\n",
       "      <td>NaN</td>\n",
       "      <td>NaN</td>\n",
       "      <td>NaN</td>\n",
       "      <td>NaN</td>\n",
       "    </tr>\n",
       "    <tr>\n",
       "      <th>1680926</th>\n",
       "      <td>55973</td>\n",
       "      <td>61.1096</td>\n",
       "      <td>F</td>\n",
       "      <td>EMERGENCY</td>\n",
       "      <td>CLINIC REFERRAL/PREMATURE</td>\n",
       "      <td>200001</td>\n",
       "      <td>3.0786</td>\n",
       "      <td>MICU</td>\n",
       "      <td>23</td>\n",
       "      <td>7</td>\n",
       "      <td>...</td>\n",
       "      <td>NaN</td>\n",
       "      <td>NaN</td>\n",
       "      <td>NaN</td>\n",
       "      <td>NaN</td>\n",
       "      <td>NaN</td>\n",
       "      <td>NaN</td>\n",
       "      <td>NaN</td>\n",
       "      <td>NaN</td>\n",
       "      <td>NaN</td>\n",
       "      <td>NaN</td>\n",
       "    </tr>\n",
       "    <tr>\n",
       "      <th>1680927</th>\n",
       "      <td>55973</td>\n",
       "      <td>61.1096</td>\n",
       "      <td>F</td>\n",
       "      <td>EMERGENCY</td>\n",
       "      <td>CLINIC REFERRAL/PREMATURE</td>\n",
       "      <td>200001</td>\n",
       "      <td>3.0786</td>\n",
       "      <td>MICU</td>\n",
       "      <td>23</td>\n",
       "      <td>7</td>\n",
       "      <td>...</td>\n",
       "      <td>NaN</td>\n",
       "      <td>NaN</td>\n",
       "      <td>NaN</td>\n",
       "      <td>NaN</td>\n",
       "      <td>NaN</td>\n",
       "      <td>NaN</td>\n",
       "      <td>NaN</td>\n",
       "      <td>NaN</td>\n",
       "      <td>NaN</td>\n",
       "      <td>NaN</td>\n",
       "    </tr>\n",
       "    <tr>\n",
       "      <th>...</th>\n",
       "      <td>...</td>\n",
       "      <td>...</td>\n",
       "      <td>...</td>\n",
       "      <td>...</td>\n",
       "      <td>...</td>\n",
       "      <td>...</td>\n",
       "      <td>...</td>\n",
       "      <td>...</td>\n",
       "      <td>...</td>\n",
       "      <td>...</td>\n",
       "      <td>...</td>\n",
       "      <td>...</td>\n",
       "      <td>...</td>\n",
       "      <td>...</td>\n",
       "      <td>...</td>\n",
       "      <td>...</td>\n",
       "      <td>...</td>\n",
       "      <td>...</td>\n",
       "      <td>...</td>\n",
       "      <td>...</td>\n",
       "      <td>...</td>\n",
       "    </tr>\n",
       "    <tr>\n",
       "      <th>347284</th>\n",
       "      <td>7630</td>\n",
       "      <td>48.7644</td>\n",
       "      <td>M</td>\n",
       "      <td>ELECTIVE</td>\n",
       "      <td>PHYS REFERRAL/NORMAL DELI</td>\n",
       "      <td>299999</td>\n",
       "      <td>1.2978</td>\n",
       "      <td>CSRU</td>\n",
       "      <td>14</td>\n",
       "      <td>0</td>\n",
       "      <td>...</td>\n",
       "      <td>NaN</td>\n",
       "      <td>NaN</td>\n",
       "      <td>NaN</td>\n",
       "      <td>NaN</td>\n",
       "      <td>NaN</td>\n",
       "      <td>NaN</td>\n",
       "      <td>NaN</td>\n",
       "      <td>NaN</td>\n",
       "      <td>NaN</td>\n",
       "      <td>NaN</td>\n",
       "    </tr>\n",
       "    <tr>\n",
       "      <th>347285</th>\n",
       "      <td>7630</td>\n",
       "      <td>48.7644</td>\n",
       "      <td>M</td>\n",
       "      <td>ELECTIVE</td>\n",
       "      <td>PHYS REFERRAL/NORMAL DELI</td>\n",
       "      <td>299999</td>\n",
       "      <td>1.2978</td>\n",
       "      <td>CSRU</td>\n",
       "      <td>14</td>\n",
       "      <td>0</td>\n",
       "      <td>...</td>\n",
       "      <td>NaN</td>\n",
       "      <td>NaN</td>\n",
       "      <td>NaN</td>\n",
       "      <td>NaN</td>\n",
       "      <td>NaN</td>\n",
       "      <td>NaN</td>\n",
       "      <td>NaN</td>\n",
       "      <td>NaN</td>\n",
       "      <td>NaN</td>\n",
       "      <td>NaN</td>\n",
       "    </tr>\n",
       "    <tr>\n",
       "      <th>347286</th>\n",
       "      <td>7630</td>\n",
       "      <td>48.7644</td>\n",
       "      <td>M</td>\n",
       "      <td>ELECTIVE</td>\n",
       "      <td>PHYS REFERRAL/NORMAL DELI</td>\n",
       "      <td>299999</td>\n",
       "      <td>1.2978</td>\n",
       "      <td>CSRU</td>\n",
       "      <td>14</td>\n",
       "      <td>0</td>\n",
       "      <td>...</td>\n",
       "      <td>NaN</td>\n",
       "      <td>NaN</td>\n",
       "      <td>NaN</td>\n",
       "      <td>NaN</td>\n",
       "      <td>NaN</td>\n",
       "      <td>NaN</td>\n",
       "      <td>NaN</td>\n",
       "      <td>NaN</td>\n",
       "      <td>NaN</td>\n",
       "      <td>NaN</td>\n",
       "    </tr>\n",
       "    <tr>\n",
       "      <th>347287</th>\n",
       "      <td>7630</td>\n",
       "      <td>48.7644</td>\n",
       "      <td>M</td>\n",
       "      <td>ELECTIVE</td>\n",
       "      <td>PHYS REFERRAL/NORMAL DELI</td>\n",
       "      <td>299999</td>\n",
       "      <td>1.2978</td>\n",
       "      <td>CSRU</td>\n",
       "      <td>14</td>\n",
       "      <td>0</td>\n",
       "      <td>...</td>\n",
       "      <td>NaN</td>\n",
       "      <td>NaN</td>\n",
       "      <td>NaN</td>\n",
       "      <td>NaN</td>\n",
       "      <td>NaN</td>\n",
       "      <td>NaN</td>\n",
       "      <td>NaN</td>\n",
       "      <td>NaN</td>\n",
       "      <td>NaN</td>\n",
       "      <td>NaN</td>\n",
       "    </tr>\n",
       "    <tr>\n",
       "      <th>347288</th>\n",
       "      <td>7630</td>\n",
       "      <td>48.7644</td>\n",
       "      <td>M</td>\n",
       "      <td>ELECTIVE</td>\n",
       "      <td>PHYS REFERRAL/NORMAL DELI</td>\n",
       "      <td>299999</td>\n",
       "      <td>1.2978</td>\n",
       "      <td>CSRU</td>\n",
       "      <td>14</td>\n",
       "      <td>0</td>\n",
       "      <td>...</td>\n",
       "      <td>NaN</td>\n",
       "      <td>NaN</td>\n",
       "      <td>NaN</td>\n",
       "      <td>NaN</td>\n",
       "      <td>NaN</td>\n",
       "      <td>NaN</td>\n",
       "      <td>NaN</td>\n",
       "      <td>NaN</td>\n",
       "      <td>NaN</td>\n",
       "      <td>NaN</td>\n",
       "    </tr>\n",
       "  </tbody>\n",
       "</table>\n",
       "<p>2239472 rows × 472 columns</p>\n",
       "</div>"
      ]
     },
     "execution_count": 9,
     "metadata": {},
     "output_type": "execute_result"
    }
   ],
   "execution_count": 9
  },
  {
   "metadata": {
    "ExecuteTime": {
     "end_time": "2025-02-20T05:34:23.103542Z",
     "start_time": "2025-02-20T05:34:22.947129Z"
    }
   },
   "cell_type": "code",
   "source": [
    "id = 200001\n",
    "patients_static.patients_T_info[patients_static.patients_T_info[\"ICUSTAY_ID\"] == id][\"T\"].max(), chartevents2[chartevents2[\"ICUSTAY_ID\"] == id][\"T\"].max(), inputevents_mv[inputevents_mv[\"ICUSTAY_ID\"] == id][\"T\"].max()"
   ],
   "id": "20a64bac10d8cb6a",
   "outputs": [
    {
     "ename": "NameError",
     "evalue": "name 'chartevents2' is not defined",
     "output_type": "error",
     "traceback": [
      "\u001B[0;31m---------------------------------------------------------------------------\u001B[0m",
      "\u001B[0;31mNameError\u001B[0m                                 Traceback (most recent call last)",
      "Cell \u001B[0;32mIn[10], line 2\u001B[0m\n\u001B[1;32m      1\u001B[0m \u001B[38;5;28mid\u001B[39m \u001B[38;5;241m=\u001B[39m \u001B[38;5;241m200001\u001B[39m\n\u001B[0;32m----> 2\u001B[0m patients_static\u001B[38;5;241m.\u001B[39mpatients_T_info[patients_static\u001B[38;5;241m.\u001B[39mpatients_T_info[\u001B[38;5;124m\"\u001B[39m\u001B[38;5;124mICUSTAY_ID\u001B[39m\u001B[38;5;124m\"\u001B[39m] \u001B[38;5;241m==\u001B[39m \u001B[38;5;28mid\u001B[39m][\u001B[38;5;124m\"\u001B[39m\u001B[38;5;124mT\u001B[39m\u001B[38;5;124m\"\u001B[39m]\u001B[38;5;241m.\u001B[39mmax(), chartevents2[chartevents2[\u001B[38;5;124m\"\u001B[39m\u001B[38;5;124mICUSTAY_ID\u001B[39m\u001B[38;5;124m\"\u001B[39m] \u001B[38;5;241m==\u001B[39m \u001B[38;5;28mid\u001B[39m][\u001B[38;5;124m\"\u001B[39m\u001B[38;5;124mT\u001B[39m\u001B[38;5;124m\"\u001B[39m]\u001B[38;5;241m.\u001B[39mmax(), inputevents_mv[inputevents_mv[\u001B[38;5;124m\"\u001B[39m\u001B[38;5;124mICUSTAY_ID\u001B[39m\u001B[38;5;124m\"\u001B[39m] \u001B[38;5;241m==\u001B[39m \u001B[38;5;28mid\u001B[39m][\u001B[38;5;124m\"\u001B[39m\u001B[38;5;124mT\u001B[39m\u001B[38;5;124m\"\u001B[39m]\u001B[38;5;241m.\u001B[39mmax()\n",
      "\u001B[0;31mNameError\u001B[0m: name 'chartevents2' is not defined"
     ]
    }
   ],
   "execution_count": 10
  },
  {
   "metadata": {
    "ExecuteTime": {
     "end_time": "2025-02-20T05:34:23.195887Z",
     "start_time": "2025-02-20T05:34:23.184616Z"
    }
   },
   "cell_type": "code",
   "source": [
    "target = inputevents_mv\n",
    "target[target[\"ICUSTAY_ID\"] == 200001]"
   ],
   "id": "293843500499ecbf",
   "outputs": [
    {
     "ename": "TypeError",
     "evalue": "'InputeventsMV' object is not subscriptable",
     "output_type": "error",
     "traceback": [
      "\u001B[0;31m---------------------------------------------------------------------------\u001B[0m",
      "\u001B[0;31mTypeError\u001B[0m                                 Traceback (most recent call last)",
      "Cell \u001B[0;32mIn[11], line 2\u001B[0m\n\u001B[1;32m      1\u001B[0m target \u001B[38;5;241m=\u001B[39m inputevents_mv\n\u001B[0;32m----> 2\u001B[0m target[target[\u001B[38;5;124m\"\u001B[39m\u001B[38;5;124mICUSTAY_ID\u001B[39m\u001B[38;5;124m\"\u001B[39m] \u001B[38;5;241m==\u001B[39m \u001B[38;5;241m200001\u001B[39m]\n",
      "\u001B[0;31mTypeError\u001B[0m: 'InputeventsMV' object is not subscriptable"
     ]
    }
   ],
   "execution_count": 11
  },
  {
   "metadata": {},
   "cell_type": "code",
   "outputs": [],
   "execution_count": null,
   "source": "",
   "id": "f7aa78bf69aafaf6"
  }
 ],
 "metadata": {
  "kernelspec": {
   "display_name": "Python 3",
   "language": "python",
   "name": "python3"
  },
  "language_info": {
   "codemirror_mode": {
    "name": "ipython",
    "version": 2
   },
   "file_extension": ".py",
   "mimetype": "text/x-python",
   "name": "python",
   "nbconvert_exporter": "python",
   "pygments_lexer": "ipython2",
   "version": "2.7.6"
  }
 },
 "nbformat": 4,
 "nbformat_minor": 5
}
